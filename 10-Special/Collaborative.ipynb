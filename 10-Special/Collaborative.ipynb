{
 "cells": [
  {
   "cell_type": "markdown",
   "metadata": {},
   "source": [
    "# Collaborative Filtering Recommender Systems"
   ]
  },
  {
   "cell_type": "markdown",
   "metadata": {},
   "source": [
    "* $u \\in Users$ - Пользователи, $|Users| = n$\n",
    "* $i \\in Items$ - Продукты, $|Items| = m$\n",
    "* $r_{i,j} \\in Ratings = Users * Items$ - Рейтинги,  $|Ratings| = m*n$"
   ]
  },
  {
   "cell_type": "markdown",
   "metadata": {},
   "source": [
    "## Intro"
   ]
  },
  {
   "cell_type": "markdown",
   "metadata": {},
   "source": [
    "Представим, что мы имеем онлайн-кинотеатр, в котором пользователи смотрят фильмы, ставят им рейтинги, пишут к ним рецензии итд. Нас попросили улучшить пользовательский опыт использования (experience) этого сервиса путем создания рекомендательной системы, которая будет рекомендовать фильмы,которые могут понравится пользователям, в виде списка. <br>\n",
    "Выделяют следующие подвиды Collaborative Filtering: \n",
    "* User-Based\n",
    "* Item-Based (Content-Based)"
   ]
  },
  {
   "cell_type": "markdown",
   "metadata": {},
   "source": [
    "## User-Based "
   ]
  },
  {
   "cell_type": "markdown",
   "metadata": {},
   "source": [
    "Основная идея данного подхода заключается в следующем: пользователи, которым нравятся похожие продукты (фильмы, места, песни итд.) скорее всего имеют одиннаковые вкусы. И этой информации в принципе нам уже достаточно, чтобы дать рекоммендацию пользователю. Ему можно рекоммендовать что-то с чем он еще не сталкивался, но людям с похожими вкусами его оценили высоко. В данном случае мы учитываем **только рейтинги пользователей в системе**, мы не учитываем личные характеристики пользователей (пол, возраст, страна итд) и не учитываем характеристики самих продуктов."
   ]
  },
  {
   "cell_type": "markdown",
   "metadata": {},
   "source": [
    "P.S.\n",
    "Для новых пользователей такой подход не сработает по той простой причине, что у них еще нет истории взаимодействий. Такая проблема называется **Cold Start Problem**. Мы не будем рассматривать такие случаи, но ее можно решить выдав популярные продукты в системе"
   ]
  },
  {
   "cell_type": "code",
   "execution_count": 1,
   "metadata": {},
   "outputs": [],
   "source": [
    "import pandas as pd\n",
    "from scipy import spatial"
   ]
  },
  {
   "cell_type": "code",
   "execution_count": 2,
   "metadata": {},
   "outputs": [],
   "source": [
    "exmpl = pd.DataFrame(\n",
    "    {\n",
    "        'Movie1': [4, 4, 5, 3],\n",
    "        'Movie2': [3, 5, 2, 5], \n",
    "        'Movie3': [2, 5, 4, None],\n",
    "        'Movie4': [4, 2, 3, None]\n",
    "    }, index=['User1', 'User2', 'User3', 'User4'])"
   ]
  },
  {
   "cell_type": "code",
   "execution_count": 3,
   "metadata": {},
   "outputs": [
    {
     "data": {
      "text/html": [
       "<div>\n",
       "<style scoped>\n",
       "    .dataframe tbody tr th:only-of-type {\n",
       "        vertical-align: middle;\n",
       "    }\n",
       "\n",
       "    .dataframe tbody tr th {\n",
       "        vertical-align: top;\n",
       "    }\n",
       "\n",
       "    .dataframe thead th {\n",
       "        text-align: right;\n",
       "    }\n",
       "</style>\n",
       "<table border=\"1\" class=\"dataframe\">\n",
       "  <thead>\n",
       "    <tr style=\"text-align: right;\">\n",
       "      <th></th>\n",
       "      <th>Movie1</th>\n",
       "      <th>Movie2</th>\n",
       "      <th>Movie3</th>\n",
       "      <th>Movie4</th>\n",
       "    </tr>\n",
       "  </thead>\n",
       "  <tbody>\n",
       "    <tr>\n",
       "      <th>User1</th>\n",
       "      <td>4</td>\n",
       "      <td>3</td>\n",
       "      <td>2.0</td>\n",
       "      <td>4.0</td>\n",
       "    </tr>\n",
       "    <tr>\n",
       "      <th>User2</th>\n",
       "      <td>4</td>\n",
       "      <td>5</td>\n",
       "      <td>5.0</td>\n",
       "      <td>2.0</td>\n",
       "    </tr>\n",
       "    <tr>\n",
       "      <th>User3</th>\n",
       "      <td>5</td>\n",
       "      <td>2</td>\n",
       "      <td>4.0</td>\n",
       "      <td>3.0</td>\n",
       "    </tr>\n",
       "    <tr>\n",
       "      <th>User4</th>\n",
       "      <td>3</td>\n",
       "      <td>5</td>\n",
       "      <td>NaN</td>\n",
       "      <td>NaN</td>\n",
       "    </tr>\n",
       "  </tbody>\n",
       "</table>\n",
       "</div>"
      ],
      "text/plain": [
       "       Movie1  Movie2  Movie3  Movie4\n",
       "User1       4       3     2.0     4.0\n",
       "User2       4       5     5.0     2.0\n",
       "User3       5       2     4.0     3.0\n",
       "User4       3       5     NaN     NaN"
      ]
     },
     "execution_count": 3,
     "metadata": {},
     "output_type": "execute_result"
    }
   ],
   "source": [
    "exmpl"
   ]
  },
  {
   "cell_type": "markdown",
   "metadata": {},
   "source": [
    "Для **User4** не определен рейтинг для фильмов **Movie3** и **Movie4**. Однако, рейтинги фильмов Movie1 и Movie2 примерно похожи с **User1**. Можно сделать предположение, что **Movie3** окажется хорошей рекомендацие, а **Movie4** - нет."
   ]
  },
  {
   "cell_type": "markdown",
   "metadata": {},
   "source": [
    "Но давайте обозначим более формально, то как мы будем считать, что пользователи похожи друг на друга."
   ]
  },
  {
   "cell_type": "code",
   "execution_count": 4,
   "metadata": {},
   "outputs": [
    {
     "data": {
      "text/plain": [
       "array([[4, 3],\n",
       "       [4, 5],\n",
       "       [5, 2],\n",
       "       [3, 5]])"
      ]
     },
     "execution_count": 4,
     "metadata": {},
     "output_type": "execute_result"
    }
   ],
   "source": [
    "exmpl[['Movie1', 'Movie2']].values"
   ]
  },
  {
   "cell_type": "code",
   "execution_count": 9,
   "metadata": {},
   "outputs": [
    {
     "name": "stderr",
     "output_type": "stream",
     "text": [
      "No handles with labels found to put in legend.\n"
     ]
    },
    {
     "data": {
      "image/png": "[encoded data removed]",
      "text/plain": [
       "<Figure size 432x288 with 1 Axes>"
      ]
     },
     "metadata": {
      "needs_background": "light"
     },
     "output_type": "display_data"
    }
   ],
   "source": [
    "import matplotlib.pyplot as plt\n",
    "import numpy as np\n",
    "\n",
    "vectors = np.array(([2, 0], [3, 2]))\n",
    "vector_addition = vectors[0] + vectors[1]\n",
    "vectors = exmpl[['Movie1', 'Movie2']].values\n",
    " \n",
    "tail = [0, 0]\n",
    "fig, ax = plt.subplots(1)\n",
    "ax.quiver(*[[0, 0, 0, 0], [0, 0, 0, 0]],\n",
    "           vectors[:, 0],\n",
    "           vectors[:, 1],\n",
    "           scale=1,\n",
    "           scale_units='xy',\n",
    "           angles = 'xy',\n",
    "           color=['g', 'r', 'k', 'b'])\n",
    " \n",
    "ax.set_xlim((0, vectors[:,0].max()+1))\n",
    "ax.set_xlabel('Movie1')\n",
    "ax.set_ylim((0, vectors[:,1].max()+1))\n",
    "ax.set_ylabel('Movie2')\n",
    "ax.legend()\n",
    "plt.grid()"
   ]
  },
  {
   "cell_type": "markdown",
   "metadata": {},
   "source": [
    "Нам нужна функция, которая будет определять \"похожесть\". Для малых углов возвращает бОльшее значение и для бОльших углов меньшее значение. Как вы уже возможно догадались косинусное расстояние хорошо для этого подходит"
   ]
  },
  {
   "cell_type": "markdown",
   "metadata": {},
   "source": [
    "### Косинусное расстояние "
   ]
  },
  {
   "cell_type": "markdown",
   "metadata": {},
   "source": [
    "$$Cosine\\, similarity : Sim(u_x, u_y) = \\frac{r_x, r_y}{|r_x|*|r_y|} $$"
   ]
  },
  {
   "cell_type": "code",
   "execution_count": 23,
   "metadata": {},
   "outputs": [],
   "source": [
    "from scipy import spatial\n",
    "from sklearn.metrics.pairwise import cosine_similarity"
   ]
  },
  {
   "cell_type": "code",
   "execution_count": 7,
   "metadata": {},
   "outputs": [],
   "source": [
    "user4 = vectors[-1]"
   ]
  },
  {
   "cell_type": "code",
   "execution_count": 8,
   "metadata": {},
   "outputs": [
    {
     "name": "stdout",
     "output_type": "stream",
     "text": [
      "[4 3] 0.07390764023045227\n",
      "[4 5] 0.009007569589676745\n",
      "[5 2] 0.20383780587689748\n",
      "[3 5] 0.0\n"
     ]
    }
   ],
   "source": [
    "for pair in vectors:\n",
    "    print(pair, spatial.distance.cosine(user4, pair))"
   ]
  },
  {
   "cell_type": "markdown",
   "metadata": {},
   "source": [
    "Другой способ оценки близости - Формула Пирсона"
   ]
  },
  {
   "cell_type": "markdown",
   "metadata": {},
   "source": [
    "### Формула Пирсона"
   ]
  },
  {
   "cell_type": "markdown",
   "metadata": {},
   "source": [
    "$$r_{xy}=\\frac{\\Sigma(x_i-\\bar{M_x})\\times(y_i-\\bar{M_y})}{\\sqrt{\\Sigma(x_i-\\bar{M_x})^2\\times\\Sigma(y_i-\\bar{M_y})^2}}$$\n",
    "*, где $\\bar{M_x}$ - средние оценки для пользователя x, $\\bar{M_y}$ - средние оценки для пользователя y*"
   ]
  },
  {
   "cell_type": "markdown",
   "metadata": {},
   "source": [
    "Для опытов возьмем датасет MovieLens"
   ]
  },
  {
   "cell_type": "code",
   "execution_count": 10,
   "metadata": {},
   "outputs": [],
   "source": [
    "users_ratings = pd.read_csv('data/ml-latest-small/ratings.csv')"
   ]
  },
  {
   "cell_type": "code",
   "execution_count": 11,
   "metadata": {},
   "outputs": [
    {
     "data": {
      "text/html": [
       "<div>\n",
       "<style scoped>\n",
       "    .dataframe tbody tr th:only-of-type {\n",
       "        vertical-align: middle;\n",
       "    }\n",
       "\n",
       "    .dataframe tbody tr th {\n",
       "        vertical-align: top;\n",
       "    }\n",
       "\n",
       "    .dataframe thead th {\n",
       "        text-align: right;\n",
       "    }\n",
       "</style>\n",
       "<table border=\"1\" class=\"dataframe\">\n",
       "  <thead>\n",
       "    <tr style=\"text-align: right;\">\n",
       "      <th></th>\n",
       "      <th>userId</th>\n",
       "      <th>movieId</th>\n",
       "      <th>rating</th>\n",
       "      <th>timestamp</th>\n",
       "    </tr>\n",
       "  </thead>\n",
       "  <tbody>\n",
       "    <tr>\n",
       "      <th>0</th>\n",
       "      <td>1</td>\n",
       "      <td>1</td>\n",
       "      <td>4.0</td>\n",
       "      <td>964982703</td>\n",
       "    </tr>\n",
       "    <tr>\n",
       "      <th>1</th>\n",
       "      <td>1</td>\n",
       "      <td>3</td>\n",
       "      <td>4.0</td>\n",
       "      <td>964981247</td>\n",
       "    </tr>\n",
       "    <tr>\n",
       "      <th>2</th>\n",
       "      <td>1</td>\n",
       "      <td>6</td>\n",
       "      <td>4.0</td>\n",
       "      <td>964982224</td>\n",
       "    </tr>\n",
       "    <tr>\n",
       "      <th>3</th>\n",
       "      <td>1</td>\n",
       "      <td>47</td>\n",
       "      <td>5.0</td>\n",
       "      <td>964983815</td>\n",
       "    </tr>\n",
       "    <tr>\n",
       "      <th>4</th>\n",
       "      <td>1</td>\n",
       "      <td>50</td>\n",
       "      <td>5.0</td>\n",
       "      <td>964982931</td>\n",
       "    </tr>\n",
       "    <tr>\n",
       "      <th>...</th>\n",
       "      <td>...</td>\n",
       "      <td>...</td>\n",
       "      <td>...</td>\n",
       "      <td>...</td>\n",
       "    </tr>\n",
       "    <tr>\n",
       "      <th>100831</th>\n",
       "      <td>610</td>\n",
       "      <td>166534</td>\n",
       "      <td>4.0</td>\n",
       "      <td>1493848402</td>\n",
       "    </tr>\n",
       "    <tr>\n",
       "      <th>100832</th>\n",
       "      <td>610</td>\n",
       "      <td>168248</td>\n",
       "      <td>5.0</td>\n",
       "      <td>1493850091</td>\n",
       "    </tr>\n",
       "    <tr>\n",
       "      <th>100833</th>\n",
       "      <td>610</td>\n",
       "      <td>168250</td>\n",
       "      <td>5.0</td>\n",
       "      <td>1494273047</td>\n",
       "    </tr>\n",
       "    <tr>\n",
       "      <th>100834</th>\n",
       "      <td>610</td>\n",
       "      <td>168252</td>\n",
       "      <td>5.0</td>\n",
       "      <td>1493846352</td>\n",
       "    </tr>\n",
       "    <tr>\n",
       "      <th>100835</th>\n",
       "      <td>610</td>\n",
       "      <td>170875</td>\n",
       "      <td>3.0</td>\n",
       "      <td>1493846415</td>\n",
       "    </tr>\n",
       "  </tbody>\n",
       "</table>\n",
       "<p>100836 rows × 4 columns</p>\n",
       "</div>"
      ],
      "text/plain": [
       "        userId  movieId  rating   timestamp\n",
       "0            1        1     4.0   964982703\n",
       "1            1        3     4.0   964981247\n",
       "2            1        6     4.0   964982224\n",
       "3            1       47     5.0   964983815\n",
       "4            1       50     5.0   964982931\n",
       "...        ...      ...     ...         ...\n",
       "100831     610   166534     4.0  1493848402\n",
       "100832     610   168248     5.0  1493850091\n",
       "100833     610   168250     5.0  1494273047\n",
       "100834     610   168252     5.0  1493846352\n",
       "100835     610   170875     3.0  1493846415\n",
       "\n",
       "[100836 rows x 4 columns]"
      ]
     },
     "execution_count": 11,
     "metadata": {},
     "output_type": "execute_result"
    }
   ],
   "source": [
    "users_ratings"
   ]
  },
  {
   "cell_type": "code",
   "execution_count": 13,
   "metadata": {},
   "outputs": [],
   "source": [
    "df_movies = pd.read_csv('data/ml-latest-small/movies.csv')"
   ]
  },
  {
   "cell_type": "code",
   "execution_count": 14,
   "metadata": {},
   "outputs": [
    {
     "data": {
      "text/html": [
       "<div>\n",
       "<style scoped>\n",
       "    .dataframe tbody tr th:only-of-type {\n",
       "        vertical-align: middle;\n",
       "    }\n",
       "\n",
       "    .dataframe tbody tr th {\n",
       "        vertical-align: top;\n",
       "    }\n",
       "\n",
       "    .dataframe thead th {\n",
       "        text-align: right;\n",
       "    }\n",
       "</style>\n",
       "<table border=\"1\" class=\"dataframe\">\n",
       "  <thead>\n",
       "    <tr style=\"text-align: right;\">\n",
       "      <th></th>\n",
       "      <th>movieId</th>\n",
       "      <th>title</th>\n",
       "      <th>genres</th>\n",
       "    </tr>\n",
       "  </thead>\n",
       "  <tbody>\n",
       "    <tr>\n",
       "      <th>0</th>\n",
       "      <td>1</td>\n",
       "      <td>Toy Story (1995)</td>\n",
       "      <td>Adventure|Animation|Children|Comedy|Fantasy</td>\n",
       "    </tr>\n",
       "    <tr>\n",
       "      <th>1</th>\n",
       "      <td>2</td>\n",
       "      <td>Jumanji (1995)</td>\n",
       "      <td>Adventure|Children|Fantasy</td>\n",
       "    </tr>\n",
       "    <tr>\n",
       "      <th>2</th>\n",
       "      <td>3</td>\n",
       "      <td>Grumpier Old Men (1995)</td>\n",
       "      <td>Comedy|Romance</td>\n",
       "    </tr>\n",
       "    <tr>\n",
       "      <th>3</th>\n",
       "      <td>4</td>\n",
       "      <td>Waiting to Exhale (1995)</td>\n",
       "      <td>Comedy|Drama|Romance</td>\n",
       "    </tr>\n",
       "    <tr>\n",
       "      <th>4</th>\n",
       "      <td>5</td>\n",
       "      <td>Father of the Bride Part II (1995)</td>\n",
       "      <td>Comedy</td>\n",
       "    </tr>\n",
       "    <tr>\n",
       "      <th>...</th>\n",
       "      <td>...</td>\n",
       "      <td>...</td>\n",
       "      <td>...</td>\n",
       "    </tr>\n",
       "    <tr>\n",
       "      <th>9737</th>\n",
       "      <td>193581</td>\n",
       "      <td>Black Butler: Book of the Atlantic (2017)</td>\n",
       "      <td>Action|Animation|Comedy|Fantasy</td>\n",
       "    </tr>\n",
       "    <tr>\n",
       "      <th>9738</th>\n",
       "      <td>193583</td>\n",
       "      <td>No Game No Life: Zero (2017)</td>\n",
       "      <td>Animation|Comedy|Fantasy</td>\n",
       "    </tr>\n",
       "    <tr>\n",
       "      <th>9739</th>\n",
       "      <td>193585</td>\n",
       "      <td>Flint (2017)</td>\n",
       "      <td>Drama</td>\n",
       "    </tr>\n",
       "    <tr>\n",
       "      <th>9740</th>\n",
       "      <td>193587</td>\n",
       "      <td>Bungo Stray Dogs: Dead Apple (2018)</td>\n",
       "      <td>Action|Animation</td>\n",
       "    </tr>\n",
       "    <tr>\n",
       "      <th>9741</th>\n",
       "      <td>193609</td>\n",
       "      <td>Andrew Dice Clay: Dice Rules (1991)</td>\n",
       "      <td>Comedy</td>\n",
       "    </tr>\n",
       "  </tbody>\n",
       "</table>\n",
       "<p>9742 rows × 3 columns</p>\n",
       "</div>"
      ],
      "text/plain": [
       "      movieId                                      title  \\\n",
       "0           1                           Toy Story (1995)   \n",
       "1           2                             Jumanji (1995)   \n",
       "2           3                    Grumpier Old Men (1995)   \n",
       "3           4                   Waiting to Exhale (1995)   \n",
       "4           5         Father of the Bride Part II (1995)   \n",
       "...       ...                                        ...   \n",
       "9737   193581  Black Butler: Book of the Atlantic (2017)   \n",
       "9738   193583               No Game No Life: Zero (2017)   \n",
       "9739   193585                               Flint (2017)   \n",
       "9740   193587        Bungo Stray Dogs: Dead Apple (2018)   \n",
       "9741   193609        Andrew Dice Clay: Dice Rules (1991)   \n",
       "\n",
       "                                           genres  \n",
       "0     Adventure|Animation|Children|Comedy|Fantasy  \n",
       "1                      Adventure|Children|Fantasy  \n",
       "2                                  Comedy|Romance  \n",
       "3                            Comedy|Drama|Romance  \n",
       "4                                          Comedy  \n",
       "...                                           ...  \n",
       "9737              Action|Animation|Comedy|Fantasy  \n",
       "9738                     Animation|Comedy|Fantasy  \n",
       "9739                                        Drama  \n",
       "9740                             Action|Animation  \n",
       "9741                                       Comedy  \n",
       "\n",
       "[9742 rows x 3 columns]"
      ]
     },
     "execution_count": 14,
     "metadata": {},
     "output_type": "execute_result"
    }
   ],
   "source": [
    "df_movies"
   ]
  },
  {
   "cell_type": "code",
   "execution_count": 15,
   "metadata": {},
   "outputs": [],
   "source": [
    "movies = users_ratings[['movieId']].drop_duplicates().sort_values('movieId').head(5)\n",
    "users=users_ratings[['userId']].drop_duplicates().sort_values('userId').head(5)"
   ]
  },
  {
   "cell_type": "code",
   "execution_count": 16,
   "metadata": {},
   "outputs": [],
   "source": [
    "def standirdize(row):\n",
    "    return (row - row.mean())/(row.max() - row.min())"
   ]
  },
  {
   "cell_type": "code",
   "execution_count": 17,
   "metadata": {},
   "outputs": [],
   "source": [
    "df_all_ratings = users_ratings.pivot_table(values='rating', index='userId', columns='movieId')"
   ]
  },
  {
   "cell_type": "code",
   "execution_count": 25,
   "metadata": {},
   "outputs": [],
   "source": [
    "df_all_ratings.fillna(0, inplace=True)"
   ]
  },
  {
   "cell_type": "code",
   "execution_count": 26,
   "metadata": {},
   "outputs": [],
   "source": [
    "df_ratings_std = df_all_ratings.apply(standirdize)"
   ]
  },
  {
   "cell_type": "code",
   "execution_count": 27,
   "metadata": {},
   "outputs": [],
   "source": [
    "item_similarity = cosine_similarity(df_ratings_std.T)"
   ]
  },
  {
   "cell_type": "code",
   "execution_count": 28,
   "metadata": {},
   "outputs": [],
   "source": [
    "df_item_similarity = pd.DataFrame(item_similarity, index=df_all_ratings.columns, columns=df_all_ratings.columns)"
   ]
  },
  {
   "cell_type": "code",
   "execution_count": 29,
   "metadata": {},
   "outputs": [],
   "source": [
    "def get_similar_movies(movie_id, user_rating):\n",
    "    # домножаем на константу (user_rating - 3), считая что 3 это порог, того что фильм понравился пользователю\n",
    "    simillar_score = df_item_similarity[movie_id]*(user_rating - 3) \n",
    "    simillar_score = simillar_score.sort_values(ascending=False)\n",
    "    return simillar_score"
   ]
  },
  {
   "cell_type": "code",
   "execution_count": 30,
   "metadata": {},
   "outputs": [],
   "source": [
    "# \n",
    "my_ratings = [\n",
    "    (58559, 5), # The Dark Knight (2008)\n",
    "    (1, 5), # Toy Story \n",
    "    (593, 4), # Ace Ventura: When Nature Calls\n",
    "    (1562, 1), # Batman & Robin (1997)\n",
    "    (1732, 5), # Big Lebowski, The (1998,\n",
    "    (356, 5), # Forrest Gump (1994),\n",
    "    (4041, 4), # Officer and a Gentleman, An (1982),\n",
    "    (53996, 2), # Transformers: Dark of the Moon (2011)\n",
    "    (5989, 5), # Catch Me If You Can (2002)\n",
    "    (102716, 1), # Fast & Furious 6\n",
    "    (1198, 5), # Raiders of the Lost Ark \n",
    "    (1196, 5), # Star Wars: Episode V - The Empire Strikes Back\n",
    "    (1210, 2), # Star Wars: Episode VI \n",
    "    (293, 5) # Léon: The Professional \n",
    "]"
   ]
  },
  {
   "cell_type": "code",
   "execution_count": 31,
   "metadata": {},
   "outputs": [],
   "source": [
    "movie_ids, ratings = list(zip(*my_ratings))"
   ]
  },
  {
   "cell_type": "code",
   "execution_count": 32,
   "metadata": {},
   "outputs": [
    {
     "data": {
      "text/html": [
       "<div>\n",
       "<style scoped>\n",
       "    .dataframe tbody tr th:only-of-type {\n",
       "        vertical-align: middle;\n",
       "    }\n",
       "\n",
       "    .dataframe tbody tr th {\n",
       "        vertical-align: top;\n",
       "    }\n",
       "\n",
       "    .dataframe thead th {\n",
       "        text-align: right;\n",
       "    }\n",
       "</style>\n",
       "<table border=\"1\" class=\"dataframe\">\n",
       "  <thead>\n",
       "    <tr style=\"text-align: right;\">\n",
       "      <th></th>\n",
       "      <th>movieId</th>\n",
       "      <th>title</th>\n",
       "      <th>genres</th>\n",
       "    </tr>\n",
       "  </thead>\n",
       "  <tbody>\n",
       "    <tr>\n",
       "      <th>126</th>\n",
       "      <td>153</td>\n",
       "      <td>Batman Forever (1995)</td>\n",
       "      <td>Action|Adventure|Comedy|Crime</td>\n",
       "    </tr>\n",
       "    <tr>\n",
       "      <th>509</th>\n",
       "      <td>592</td>\n",
       "      <td>Batman (1989)</td>\n",
       "      <td>Action|Crime|Thriller</td>\n",
       "    </tr>\n",
       "    <tr>\n",
       "      <th>1060</th>\n",
       "      <td>1377</td>\n",
       "      <td>Batman Returns (1992)</td>\n",
       "      <td>Action|Crime</td>\n",
       "    </tr>\n",
       "    <tr>\n",
       "      <th>1174</th>\n",
       "      <td>1562</td>\n",
       "      <td>Batman &amp; Robin (1997)</td>\n",
       "      <td>Action|Adventure|Fantasy|Thriller</td>\n",
       "    </tr>\n",
       "    <tr>\n",
       "      <th>2418</th>\n",
       "      <td>3213</td>\n",
       "      <td>Batman: Mask of the Phantasm (1993)</td>\n",
       "      <td>Animation|Children</td>\n",
       "    </tr>\n",
       "    <tr>\n",
       "      <th>5463</th>\n",
       "      <td>26152</td>\n",
       "      <td>Batman (1966)</td>\n",
       "      <td>Action|Adventure|Comedy</td>\n",
       "    </tr>\n",
       "    <tr>\n",
       "      <th>5620</th>\n",
       "      <td>27155</td>\n",
       "      <td>Batman/Superman Movie, The (1998)</td>\n",
       "      <td>Action|Adventure|Animation|Children|Fantasy|Sc...</td>\n",
       "    </tr>\n",
       "    <tr>\n",
       "      <th>5631</th>\n",
       "      <td>27311</td>\n",
       "      <td>Batman Beyond: Return of the Joker (2000)</td>\n",
       "      <td>Action|Animation|Crime|Sci-Fi|Thriller</td>\n",
       "    </tr>\n",
       "    <tr>\n",
       "      <th>5917</th>\n",
       "      <td>33794</td>\n",
       "      <td>Batman Begins (2005)</td>\n",
       "      <td>Action|Crime|IMAX</td>\n",
       "    </tr>\n",
       "    <tr>\n",
       "      <th>6815</th>\n",
       "      <td>60979</td>\n",
       "      <td>Batman: Gotham Knight (2008)</td>\n",
       "      <td>Action|Animation|Crime</td>\n",
       "    </tr>\n",
       "    <tr>\n",
       "      <th>7380</th>\n",
       "      <td>79274</td>\n",
       "      <td>Batman: Under the Red Hood (2010)</td>\n",
       "      <td>Action|Animation</td>\n",
       "    </tr>\n",
       "    <tr>\n",
       "      <th>7731</th>\n",
       "      <td>90603</td>\n",
       "      <td>Batman: Year One (2011)</td>\n",
       "      <td>Action|Animation|Crime</td>\n",
       "    </tr>\n",
       "    <tr>\n",
       "      <th>7903</th>\n",
       "      <td>95149</td>\n",
       "      <td>Superman/Batman: Public Enemies (2009)</td>\n",
       "      <td>Action|Animation|Fantasy</td>\n",
       "    </tr>\n",
       "    <tr>\n",
       "      <th>8032</th>\n",
       "      <td>98124</td>\n",
       "      <td>Batman: The Dark Knight Returns, Part 1 (2012)</td>\n",
       "      <td>Action|Animation|Sci-Fi</td>\n",
       "    </tr>\n",
       "    <tr>\n",
       "      <th>8080</th>\n",
       "      <td>99813</td>\n",
       "      <td>Batman: The Dark Knight Returns, Part 2 (2013)</td>\n",
       "      <td>Action|Animation</td>\n",
       "    </tr>\n",
       "    <tr>\n",
       "      <th>8195</th>\n",
       "      <td>103233</td>\n",
       "      <td>LEGO Batman: The Movie - DC Heroes Unite (2013)</td>\n",
       "      <td>Action|Adventure|Animation</td>\n",
       "    </tr>\n",
       "    <tr>\n",
       "      <th>8234</th>\n",
       "      <td>104141</td>\n",
       "      <td>Batman: Mystery of the Batwoman (2003)</td>\n",
       "      <td>Action|Animation|Children|Crime</td>\n",
       "    </tr>\n",
       "    <tr>\n",
       "      <th>8486</th>\n",
       "      <td>113278</td>\n",
       "      <td>Batman: Assault on Arkham (2014)</td>\n",
       "      <td>Action|Animation|Crime|Thriller</td>\n",
       "    </tr>\n",
       "    <tr>\n",
       "      <th>8829</th>\n",
       "      <td>131739</td>\n",
       "      <td>Batman vs. Robin (2015)</td>\n",
       "      <td>Action|Adventure|Animation</td>\n",
       "    </tr>\n",
       "    <tr>\n",
       "      <th>8963</th>\n",
       "      <td>136864</td>\n",
       "      <td>Batman v Superman: Dawn of Justice (2016)</td>\n",
       "      <td>Action|Adventure|Fantasy|Sci-Fi</td>\n",
       "    </tr>\n",
       "    <tr>\n",
       "      <th>9355</th>\n",
       "      <td>161354</td>\n",
       "      <td>Batman: The Killing Joke (2016)</td>\n",
       "      <td>Action|Animation|Crime|Drama</td>\n",
       "    </tr>\n",
       "    <tr>\n",
       "      <th>9452</th>\n",
       "      <td>167746</td>\n",
       "      <td>The Lego Batman Movie (2017)</td>\n",
       "      <td>Action|Animation|Comedy</td>\n",
       "    </tr>\n",
       "  </tbody>\n",
       "</table>\n",
       "</div>"
      ],
      "text/plain": [
       "      movieId                                            title  \\\n",
       "126       153                            Batman Forever (1995)   \n",
       "509       592                                    Batman (1989)   \n",
       "1060     1377                            Batman Returns (1992)   \n",
       "1174     1562                            Batman & Robin (1997)   \n",
       "2418     3213              Batman: Mask of the Phantasm (1993)   \n",
       "5463    26152                                    Batman (1966)   \n",
       "5620    27155                Batman/Superman Movie, The (1998)   \n",
       "5631    27311        Batman Beyond: Return of the Joker (2000)   \n",
       "5917    33794                             Batman Begins (2005)   \n",
       "6815    60979                     Batman: Gotham Knight (2008)   \n",
       "7380    79274                Batman: Under the Red Hood (2010)   \n",
       "7731    90603                          Batman: Year One (2011)   \n",
       "7903    95149           Superman/Batman: Public Enemies (2009)   \n",
       "8032    98124   Batman: The Dark Knight Returns, Part 1 (2012)   \n",
       "8080    99813   Batman: The Dark Knight Returns, Part 2 (2013)   \n",
       "8195   103233  LEGO Batman: The Movie - DC Heroes Unite (2013)   \n",
       "8234   104141           Batman: Mystery of the Batwoman (2003)   \n",
       "8486   113278                 Batman: Assault on Arkham (2014)   \n",
       "8829   131739                          Batman vs. Robin (2015)   \n",
       "8963   136864        Batman v Superman: Dawn of Justice (2016)   \n",
       "9355   161354                  Batman: The Killing Joke (2016)   \n",
       "9452   167746                     The Lego Batman Movie (2017)   \n",
       "\n",
       "                                                 genres  \n",
       "126                       Action|Adventure|Comedy|Crime  \n",
       "509                               Action|Crime|Thriller  \n",
       "1060                                       Action|Crime  \n",
       "1174                  Action|Adventure|Fantasy|Thriller  \n",
       "2418                                 Animation|Children  \n",
       "5463                            Action|Adventure|Comedy  \n",
       "5620  Action|Adventure|Animation|Children|Fantasy|Sc...  \n",
       "5631             Action|Animation|Crime|Sci-Fi|Thriller  \n",
       "5917                                  Action|Crime|IMAX  \n",
       "6815                             Action|Animation|Crime  \n",
       "7380                                   Action|Animation  \n",
       "7731                             Action|Animation|Crime  \n",
       "7903                           Action|Animation|Fantasy  \n",
       "8032                            Action|Animation|Sci-Fi  \n",
       "8080                                   Action|Animation  \n",
       "8195                         Action|Adventure|Animation  \n",
       "8234                    Action|Animation|Children|Crime  \n",
       "8486                    Action|Animation|Crime|Thriller  \n",
       "8829                         Action|Adventure|Animation  \n",
       "8963                    Action|Adventure|Fantasy|Sci-Fi  \n",
       "9355                       Action|Animation|Crime|Drama  \n",
       "9452                            Action|Animation|Comedy  "
      ]
     },
     "execution_count": 32,
     "metadata": {},
     "output_type": "execute_result"
    }
   ],
   "source": [
    "df_movies[df_movies['title'].str.contains('Batman')]"
   ]
  },
  {
   "cell_type": "code",
   "execution_count": 33,
   "metadata": {
    "scrolled": true
   },
   "outputs": [],
   "source": [
    "# получаем похожие фильмы по оценке просмотренных\n",
    "rec_movies = pd.DataFrame()\n",
    "for movie_id, rating in my_ratings:\n",
    "    rec_movies = rec_movies.append(get_similar_movies(movie_id, rating))"
   ]
  },
  {
   "cell_type": "code",
   "execution_count": 35,
   "metadata": {},
   "outputs": [],
   "source": [
    "# проссумируем все столбцы и упорядочим\n",
    "rec_movies_sorted = rec_movies.sum().sort_values(ascending=False)\n",
    "# убираем фильмы, которым уже были просмотренны и получили оценку\n",
    "rec_movies_sorted = rec_movies_sorted[~rec_movies_sorted.index.isin(movie_ids)] "
   ]
  },
  {
   "cell_type": "code",
   "execution_count": 36,
   "metadata": {},
   "outputs": [],
   "source": [
    "movie_ids, ratings = list(zip(*my_ratings))"
   ]
  },
  {
   "cell_type": "code",
   "execution_count": 37,
   "metadata": {},
   "outputs": [],
   "source": [
    "rec_movies_sorted = rec_movies_sorted.reset_index()\n",
    "rec_movies_sorted.columns = ['movieId', 'score']"
   ]
  },
  {
   "cell_type": "code",
   "execution_count": 38,
   "metadata": {},
   "outputs": [
    {
     "data": {
      "text/html": [
       "<div>\n",
       "<style scoped>\n",
       "    .dataframe tbody tr th:only-of-type {\n",
       "        vertical-align: middle;\n",
       "    }\n",
       "\n",
       "    .dataframe tbody tr th {\n",
       "        vertical-align: top;\n",
       "    }\n",
       "\n",
       "    .dataframe thead th {\n",
       "        text-align: right;\n",
       "    }\n",
       "</style>\n",
       "<table border=\"1\" class=\"dataframe\">\n",
       "  <thead>\n",
       "    <tr style=\"text-align: right;\">\n",
       "      <th></th>\n",
       "      <th>movieId</th>\n",
       "      <th>score</th>\n",
       "      <th>title</th>\n",
       "      <th>genres</th>\n",
       "    </tr>\n",
       "  </thead>\n",
       "  <tbody>\n",
       "    <tr>\n",
       "      <th>0</th>\n",
       "      <td>2571</td>\n",
       "      <td>4.611180</td>\n",
       "      <td>Matrix, The (1999)</td>\n",
       "      <td>Action|Sci-Fi|Thriller</td>\n",
       "    </tr>\n",
       "    <tr>\n",
       "      <th>1</th>\n",
       "      <td>2959</td>\n",
       "      <td>4.567621</td>\n",
       "      <td>Fight Club (1999)</td>\n",
       "      <td>Action|Crime|Drama|Thriller</td>\n",
       "    </tr>\n",
       "    <tr>\n",
       "      <th>2</th>\n",
       "      <td>1089</td>\n",
       "      <td>4.434099</td>\n",
       "      <td>Reservoir Dogs (1992)</td>\n",
       "      <td>Crime|Mystery|Thriller</td>\n",
       "    </tr>\n",
       "    <tr>\n",
       "      <th>3</th>\n",
       "      <td>1291</td>\n",
       "      <td>4.352069</td>\n",
       "      <td>Indiana Jones and the Last Crusade (1989)</td>\n",
       "      <td>Action|Adventure</td>\n",
       "    </tr>\n",
       "    <tr>\n",
       "      <th>4</th>\n",
       "      <td>7153</td>\n",
       "      <td>4.286663</td>\n",
       "      <td>Lord of the Rings: The Return of the King, The...</td>\n",
       "      <td>Action|Adventure|Drama|Fantasy</td>\n",
       "    </tr>\n",
       "    <tr>\n",
       "      <th>5</th>\n",
       "      <td>48516</td>\n",
       "      <td>4.282440</td>\n",
       "      <td>Departed, The (2006)</td>\n",
       "      <td>Crime|Drama|Thriller</td>\n",
       "    </tr>\n",
       "    <tr>\n",
       "      <th>6</th>\n",
       "      <td>33794</td>\n",
       "      <td>4.220184</td>\n",
       "      <td>Batman Begins (2005)</td>\n",
       "      <td>Action|Crime|IMAX</td>\n",
       "    </tr>\n",
       "    <tr>\n",
       "      <th>7</th>\n",
       "      <td>1136</td>\n",
       "      <td>4.210456</td>\n",
       "      <td>Monty Python and the Holy Grail (1975)</td>\n",
       "      <td>Adventure|Comedy|Fantasy</td>\n",
       "    </tr>\n",
       "    <tr>\n",
       "      <th>8</th>\n",
       "      <td>7438</td>\n",
       "      <td>4.208327</td>\n",
       "      <td>Kill Bill: Vol. 2 (2004)</td>\n",
       "      <td>Action|Drama|Thriller</td>\n",
       "    </tr>\n",
       "    <tr>\n",
       "      <th>9</th>\n",
       "      <td>1213</td>\n",
       "      <td>4.202898</td>\n",
       "      <td>Goodfellas (1990)</td>\n",
       "      <td>Crime|Drama</td>\n",
       "    </tr>\n",
       "  </tbody>\n",
       "</table>\n",
       "</div>"
      ],
      "text/plain": [
       "   movieId     score                                              title  \\\n",
       "0     2571  4.611180                                 Matrix, The (1999)   \n",
       "1     2959  4.567621                                  Fight Club (1999)   \n",
       "2     1089  4.434099                              Reservoir Dogs (1992)   \n",
       "3     1291  4.352069          Indiana Jones and the Last Crusade (1989)   \n",
       "4     7153  4.286663  Lord of the Rings: The Return of the King, The...   \n",
       "5    48516  4.282440                               Departed, The (2006)   \n",
       "6    33794  4.220184                               Batman Begins (2005)   \n",
       "7     1136  4.210456             Monty Python and the Holy Grail (1975)   \n",
       "8     7438  4.208327                           Kill Bill: Vol. 2 (2004)   \n",
       "9     1213  4.202898                                  Goodfellas (1990)   \n",
       "\n",
       "                           genres  \n",
       "0          Action|Sci-Fi|Thriller  \n",
       "1     Action|Crime|Drama|Thriller  \n",
       "2          Crime|Mystery|Thriller  \n",
       "3                Action|Adventure  \n",
       "4  Action|Adventure|Drama|Fantasy  \n",
       "5            Crime|Drama|Thriller  \n",
       "6               Action|Crime|IMAX  \n",
       "7        Adventure|Comedy|Fantasy  \n",
       "8           Action|Drama|Thriller  \n",
       "9                     Crime|Drama  "
      ]
     },
     "execution_count": 38,
     "metadata": {},
     "output_type": "execute_result"
    }
   ],
   "source": [
    "# В итоге мы имеем список фильмов к просмотру на выходных\n",
    "rec_movies_sorted.merge(df_movies, on='movieId').head(10)"
   ]
  },
  {
   "cell_type": "markdown",
   "metadata": {},
   "source": [
    "## Decision-support metrics"
   ]
  },
  {
   "cell_type": "markdown",
   "metadata": {},
   "source": [
    "Однако, при оценке рекомендательной системы нас не должно волновать какую оценку она поставит данному продукту 3.7 или 3.2. Нам важно, чтобы рекомендательная система научилась оценивать выше хорошие или подходящие товары чем товары, которые будут не интересны. Этот вид метрик работает с бинарными значениями - 0 и 1 (просмотр, лайк, рейтинг >= 3.5 итд). А получив список рекомендаций мы хотим видеть самые подходящие в верху списка. Поэтому Decision-support метрики чаще рассматривают на <b>топ k рекомендациях</b>"
   ]
  },
  {
   "cell_type": "markdown",
   "metadata": {},
   "source": [
    "Метрика **Precision** показывает долю товаров рекомендаций понравившихся пользователю, precision@k считается на топ k рекомендациях\n",
    "$$Precision@k = \\frac{1}{K}{\\sum_{k=1}^{K} Relevance(k)}$$, где $Relevance(k)$ - индикатор релевантности i товара. <br>\n",
    "Метрика **Recall** показывает долю рекомендаций показанных пользователю, recall@k считается на топ k рекомендациях\n",
    "$$Recall@k = \\frac{\\sum_{k=1}^{K} Relevance(k)}{|Relevant|}$$, где # relevant - кол-во понравившихся товаров, $Relevance(k)$ - индикатор релевантности i товара."
   ]
  },
  {
   "cell_type": "markdown",
   "metadata": {},
   "source": [
    "Метрика **Average Precision@k** - в отличие от Precision@k и Recall@k, AP@k придает значение не только списку, но и самому порядку этих рекомендаций\n",
    "$$AP@K = \\frac{\\sum_{k=1}^{K}(Relevance(k)\\cdot Precision@k))}{\\sum_{k=1}^{K}Relevance(k)}$$"
   ]
  },
  {
   "cell_type": "markdown",
   "metadata": {},
   "source": [
    "Метрика **Mean Average Precision @ k (MAP@K)** - наиболее часто использующаяся метрика качества в задачах рекомендательных систем, она получается подсчетом среднего значения по всем пользователям по AP@k\n",
    "$$ MAP@K = \\frac{1}{N}\\sum_{u\\in {Users}}{AP@K(u)} $$"
   ]
  }
 ],
 "metadata": {
  "kernelspec": {
   "display_name": "Python 3",
   "language": "python",
   "name": "python3"
  },
  "language_info": {
   "codemirror_mode": {
    "name": "ipython",
    "version": 3
   },
   "file_extension": ".py",
   "mimetype": "text/x-python",
   "name": "python",
   "nbconvert_exporter": "python",
   "pygments_lexer": "ipython3",
   "version": "3.7.6"
  }
 },
 "nbformat": 4,
 "nbformat_minor": 4
}
