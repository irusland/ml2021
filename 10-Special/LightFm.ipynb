{
 "cells": [
  {
   "cell_type": "markdown",
   "metadata": {},
   "source": [
    "# LightFM, фактаризационные матрицы, неявные отклики"
   ]
  },
  {
   "cell_type": "markdown",
   "metadata": {},
   "source": [
    "Мы уже видели, построение модели на примере коллаборативной фильтрации. Для оценок того, что пользователю понравился фильм использовался рейтинг поставленный пользователем. Однако это не всегда правильный подход использовать явные отклики пользователя. Обучая моедль и пытаясь получить максимально близкие рейтинги к фильмам, которые пользователь уже посмотрел, мы упускаем факт того какие фильмы пользоваль не посмотрел. Факт того, что пользователь не посмотрел и не поставил рейтинг, значит что пользователь не выбрал их в первую очередь. Что показывает осознанный выбор пользователя и может быть использовано в качестве негативного отклика и таким образом обучить модель на неявных откликах"
   ]
  },
  {
   "cell_type": "markdown",
   "metadata": {},
   "source": [
    "В данном примере мы будем использовать в качестве target поставленный рейтинг и не просмотр фильма. В качестве модели будем использовать библиотеку основанную на идее матричных разложений LightFM <br>\n",
    "Подробнее о матричных разложениях: https://developers.google.com/machine-learning/recommendation/collaborative/matrix\n",
    "Библиотека LightFM: https://making.lyst.com/lightfm/docs/home.html"
   ]
  },
  {
   "cell_type": "code",
   "execution_count": 9,
   "metadata": {},
   "outputs": [],
   "source": [
    "# !pip install lightfm"
   ]
  },
  {
   "cell_type": "code",
   "execution_count": 3,
   "metadata": {},
   "outputs": [],
   "source": [
    "import numpy as np\n",
    "\n",
    "from lightfm.datasets import fetch_movielens\n",
    "\n",
    "movielens = fetch_movielens()"
   ]
  },
  {
   "cell_type": "code",
   "execution_count": 4,
   "metadata": {},
   "outputs": [
    {
     "name": "stdout",
     "output_type": "stream",
     "text": [
      "train <class 'scipy.sparse.coo.coo_matrix'> (943, 1682)\n",
      "test <class 'scipy.sparse.coo.coo_matrix'> (943, 1682)\n",
      "item_features <class 'scipy.sparse.csr.csr_matrix'> (1682, 1682)\n",
      "item_feature_labels <class 'numpy.ndarray'> (1682,)\n",
      "item_labels <class 'numpy.ndarray'> (1682,)\n"
     ]
    }
   ],
   "source": [
    "for key, value in movielens.items():\n",
    "    print(key, type(value), value.shape)"
   ]
  },
  {
   "cell_type": "markdown",
   "metadata": {},
   "source": [
    "Обратите внимание что входными данными будут **sparse matix** или разряженные матрицы. Sparce matrix используются более экономного хранения данных, в которых нулевых элементов значительно больше ненулевых"
   ]
  },
  {
   "cell_type": "code",
   "execution_count": 28,
   "metadata": {},
   "outputs": [
    {
     "data": {
      "text/plain": [
       "[(0, 1420), (1, 25), (2, 27), (3, 54), (4, 77), (5, 79)]"
      ]
     },
     "execution_count": 28,
     "metadata": {},
     "output_type": "execute_result"
    }
   ],
   "source": [
    "y = np.bincount(train.toarray()[0].astype('int64'))\n",
    "ii = np.nonzero(y)[0]\n",
    "list(zip(ii,y[ii]))"
   ]
  },
  {
   "cell_type": "code",
   "execution_count": 6,
   "metadata": {},
   "outputs": [],
   "source": [
    "train = movielens['train']\n",
    "test = movielens['test']"
   ]
  },
  {
   "cell_type": "code",
   "execution_count": 33,
   "metadata": {},
   "outputs": [
    {
     "name": "stdout",
     "output_type": "stream",
     "text": [
      "Precision@10: train 0.58, test 0.19.\n",
      "Recall@10: train 0.11, test 0.10.\n",
      "AUC: train 0.89, test 0.88.\n"
     ]
    }
   ],
   "source": [
    "from lightfm import LightFM\n",
    "from lightfm.evaluation import precision_at_k, recall_at_k\n",
    "from lightfm.evaluation import auc_score\n",
    "\n",
    "model = LightFM(learning_rate=0.05, loss='bpr')\n",
    "model.fit(train, epochs=10)\n",
    "\n",
    "train_precision_at_10 = precision_at_k(model, train, k=10).mean()\n",
    "test_precision_at_10 = precision_at_k(model, test, k=10, train_interactions=train).mean()\n",
    "\n",
    "train_recall_at_10 = recall_at_k(model, train, k=10).mean()\n",
    "test_recall_at_10 = recall_at_k(model, test, k=10).mean()\n",
    "\n",
    "train_auc = auc_score(model, train).mean()\n",
    "test_auc = auc_score(model, test, train_interactions=train).mean()\n",
    "\n",
    "print('Precision@10: train %.2f, test %.2f.' % (train_precision_at_10, test_precision_at_10))\n",
    "print('Recall@10: train %.2f, test %.2f.' % (train_recall_at_10, test_recall_at_10))\n",
    "print('AUC: train %.2f, test %.2f.' % (train_auc, test_auc))"
   ]
  },
  {
   "cell_type": "code",
   "execution_count": 8,
   "metadata": {},
   "outputs": [
    {
     "name": "stdout",
     "output_type": "stream",
     "text": [
      "Precision: train 0.61, test 0.22.\n",
      "AUC: train 0.94, test 0.93.\n"
     ]
    }
   ],
   "source": [
    "model = LightFM(learning_rate=0.05, loss='warp')\n",
    "\n",
    "model.fit_partial(train, epochs=10)\n",
    "\n",
    "train_precision = precision_at_k(model, train, k=10).mean()\n",
    "test_precision = precision_at_k(model, test, k=10, train_interactions=train).mean()\n",
    "\n",
    "train_auc = auc_score(model, train).mean()\n",
    "test_auc = auc_score(model, test, train_interactions=train).mean()\n",
    "\n",
    "print('Precision: train %.2f, test %.2f.' % (train_precision, test_precision))\n",
    "print('AUC: train %.2f, test %.2f.' % (train_auc, test_auc))"
   ]
  }
 ],
 "metadata": {
  "kernelspec": {
   "display_name": "Python 3",
   "language": "python",
   "name": "python3"
  },
  "language_info": {
   "codemirror_mode": {
    "name": "ipython",
    "version": 3
   },
   "file_extension": ".py",
   "mimetype": "text/x-python",
   "name": "python",
   "nbconvert_exporter": "python",
   "pygments_lexer": "ipython3",
   "version": "3.7.6"
  }
 },
 "nbformat": 4,
 "nbformat_minor": 5
}
