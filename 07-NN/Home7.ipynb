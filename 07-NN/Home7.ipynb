{
 "cells": [
  {
   "cell_type": "code",
   "execution_count": 240,
   "metadata": {},
   "outputs": [],
   "source": [
    "import torch\n",
    "import numpy as np\n",
    "import skimage\n",
    "import matplotlib.pyplot as plt\n",
    "from numpy.testing import assert_array_equal, assert_array_almost_equal, assert_equal, assert_almost_equal"
   ]
  },
  {
   "cell_type": "markdown",
   "metadata": {},
   "source": [
    "# SLIDE (1) Каннабола"
   ]
  },
  {
   "cell_type": "markdown",
   "metadata": {},
   "source": [
    "[DISCLAIMER](https://gist.githubusercontent.com/justheuristic/e2c1fa28ca02670cabc42cacf3902796/raw/fd3d935cef63a01b85ed2790b5c11c370245cbd7/stddisclaimer.h)\n",
    "\n",
    "Запишите функцию каннаболы в полярных координатах\n",
    "$$\\rho(\\theta) = (1 + 0.9 \\cdot cos (8 \\cdot \\theta) ) \\cdot (1 + 0.1 \\cdot cos(24 \\cdot \\theta)) \\cdot (0.9 + 0.05 \\cdot cos(200 \\cdot \\theta)) \\cdot (1 + sin(\\theta))$$\n",
    "\n",
    "А также переведите ее в обычные координаты ([howto](http://www.mathsisfun.com/polar-cartesian-coordinates.html))\n",
    "\n",
    "Используйте только тензоры торча: никаких листов циклов и нампи массивов."
   ]
  },
  {
   "cell_type": "markdown",
   "metadata": {},
   "source": [
    "# TASK"
   ]
  },
  {
   "cell_type": "code",
   "execution_count": null,
   "metadata": {
    "id": "mfypiG0aiei-"
   },
   "outputs": [],
   "source": [
    "#precondition\n",
    "assert_no_tokens(['print', 'while', 'map', 'for', 'open', 'numpy', 'np'])"
   ]
  },
  {
   "cell_type": "code",
   "execution_count": null,
   "metadata": {},
   "outputs": [],
   "source": [
    "def cannabola(theta: torch.Tensor) -> torch.Tensor:\n",
    "    rho = ### ╰( ͡° ͜ʖ ͡° )つ──☆*:・ﾟ\n",
    "    x =   ### ╰( ͡° ͜ʖ ͡° )つ──☆*:・ﾟ\n",
    "    y =   ### ╰( ͡° ͜ʖ ͡° )つ──☆*:・ﾟ\n",
    "    return rho, x, y"
   ]
  },
  {
   "cell_type": "code",
   "execution_count": 50,
   "metadata": {},
   "outputs": [
    {
     "name": "stdout",
     "output_type": "stream",
     "text": [
      "True\n"
     ]
    }
   ],
   "source": [
    "theta = torch.linspace(- np.pi, np.pi, steps=1000)\n",
    "\n",
    "rho, x, y = cannabola(theta)\n",
    "\n",
    "rho_corr = torch.FloatTensor([1.9855, 1.8980, 1.7622, 1.7372, 1.8181, 1.8476,\n",
    "                              1.7383, 1.5899, 1.5458, 1.5965, 1.6020, 1.4901])\n",
    "\n",
    "assert torch.allclose(rho[:12], rho_corr, atol=1e-3)"
   ]
  },
  {
   "cell_type": "code",
   "execution_count": null,
   "metadata": {},
   "outputs": [],
   "source": [
    "plt.figure(figsize=[6,6])\n",
    "plt.fill(x.numpy(), y.numpy(), color='green')\n",
    "plt.grid()\n",
    "\n",
    "print('Weeeeeell Doooooone!')"
   ]
  },
  {
   "cell_type": "markdown",
   "metadata": {
    "id": "eVYmABv0iei2"
   },
   "source": [
    "# SLIDE (1) Ближайший элемент (опять)"
   ]
  },
  {
   "cell_type": "markdown",
   "metadata": {
    "id": "LElWGGt-iei5"
   },
   "source": [
    "`Ah shit, here we go again.`\n",
    "\n",
    "Реализуйте функцию, принимающую на вход непустой тензор (может быть многомерным) $X$ и некоторое число $a$ и возвращающую ближайший к числу элемент тензора. Если ближайших несколько - выведите минимальный из ближайших. (Вернуть нужно само число, а не индекс числа!)\n",
    "\n",
    "### Sample\n",
    "#### Input:\n",
    "```python\n",
    "X = torch.Tensor([[ 1.  2. 13.]\n",
    "                  [15.  6.  8.]\n",
    "                  [ 7. 18.  9.]])\n",
    "a = 7.2\n",
    "```\n",
    "#### Output:\n",
    "```python\n",
    "7\n",
    "```"
   ]
  },
  {
   "cell_type": "markdown",
   "metadata": {
    "id": "7YNJOwNUiei8"
   },
   "source": [
    "# TASK"
   ]
  },
  {
   "cell_type": "code",
   "execution_count": null,
   "metadata": {
    "id": "mfypiG0aiei-"
   },
   "outputs": [],
   "source": [
    "#precondition\n",
    "assert_no_tokens(['print', 'while', 'map', 'for', 'open', 'numpy', 'np'])"
   ]
  },
  {
   "cell_type": "code",
   "execution_count": 76,
   "metadata": {
    "id": "z3U1Ap6XiejD"
   },
   "outputs": [],
   "source": [
    "def nearest_value(X: torch.Tensor, a: float) -> torch.Tensor:\n",
    "    ### ╰( ͡° ͜ʖ ͡° )つ──☆*:・ﾟ\n",
    "    pass"
   ]
  },
  {
   "cell_type": "code",
   "execution_count": 6,
   "metadata": {
    "id": "zpR66UkEiejO"
   },
   "outputs": [],
   "source": [
    "######################################################\n",
    "assert_equal(\n",
    "    nearest_value(torch.Tensor([ 1,  2, 13]), 10).numpy(), \n",
    "    13)\n",
    "######################################################\n",
    "assert_equal(\n",
    "    nearest_value(torch.Tensor([ -1,  0]), -0.5).numpy(), \n",
    "    -1)\n",
    "######################################################\n",
    "assert_equal(\n",
    "    nearest_value(torch.Tensor([[[ 1], [2],[3]],[[4],[5],[6]]]), 4.5).numpy(),\n",
    "    4)\n",
    "######################################################\n",
    "assert_equal(\n",
    "    nearest_value(torch.Tensor([[ 1,  2, 13],\n",
    "                                [15,  6,  8],\n",
    "                                [ 7, 18,  9]]), 7.2).numpy(),\n",
    "    7)\n",
    "######################################################"
   ]
  },
  {
   "cell_type": "markdown",
   "metadata": {},
   "source": [
    "# SLIDE (1) Взятие производной"
   ]
  },
  {
   "cell_type": "markdown",
   "metadata": {},
   "source": [
    "Найдите производную функции\n",
    "$$ f(x) = \\frac{\\ln(arctan(x))}{arcsin^2(x)} $$\n",
    "Вам на вход подается одномерный тензор X c числами от 0 до 1. \n",
    "\n",
    "Верните одномерный тензор с значениями производной в этих точках."
   ]
  },
  {
   "cell_type": "code",
   "execution_count": null,
   "metadata": {
    "id": "mfypiG0aiei-"
   },
   "outputs": [],
   "source": [
    "#precondition\n",
    "assert_no_tokens(['print', 'while', 'map', 'for', 'open', 'numpy', 'np'])"
   ]
  },
  {
   "cell_type": "code",
   "execution_count": 76,
   "metadata": {
    "id": "z3U1Ap6XiejD"
   },
   "outputs": [],
   "source": [
    "def derivative(X: torch.Tensor) -> torch.Tensor:\n",
    "    ### ╰( ͡° ͜ʖ ͡° )つ──☆*:・ﾟ\n",
    "    pass"
   ]
  },
  {
   "cell_type": "code",
   "execution_count": 52,
   "metadata": {},
   "outputs": [],
   "source": [
    "x = torch.linspace(0.1, 0.9, 9)\n",
    "\n",
    "dfdx = derivative(x)\n",
    "\n",
    "answer = torch.FloatTensor([5.6019e+03, 5.2582e+02, 1.2528e+02, 4.3635e+01, 1.8659e+01, 9.0595e+00,\n",
    "        4.7899e+00, 2.6957e+00, 1.6171e+00])\n",
    "\n",
    "assert torch.allclose(dfdx, answer, atol=1e-2)"
   ]
  },
  {
   "cell_type": "markdown",
   "metadata": {},
   "source": [
    "# SLIDE (1) Сборка сети"
   ]
  },
  {
   "cell_type": "markdown",
   "metadata": {},
   "source": [
    "Соберите и верните нейросеть [по рисунку](https://github.com/samstikhin/ml2021/blob/master/07-NN/images/homeNN.png). \n",
    "\n",
    "<img src=\"images/homeNN.png\" width=600 />\n",
    "\n",
    "В сети используются только линейные слои."
   ]
  },
  {
   "cell_type": "code",
   "execution_count": null,
   "metadata": {
    "id": "mfypiG0aiei-"
   },
   "outputs": [],
   "source": [
    "#precondition\n",
    "assert_no_tokens(['print', 'while', 'map', 'for', 'open', 'numpy', 'np'])"
   ]
  },
  {
   "cell_type": "code",
   "execution_count": 76,
   "metadata": {
    "id": "z3U1Ap6XiejD"
   },
   "outputs": [],
   "source": [
    "from torch.nn import Sequential, Linear\n",
    "\n",
    "def net_by_png() -> torch.nn.Sequential:\n",
    "    return Sequential(\n",
    "        ### ╰( ͡° ͜ʖ ͡° )つ──☆*:・ﾟ\n",
    "    )"
   ]
  },
  {
   "cell_type": "code",
   "execution_count": 56,
   "metadata": {},
   "outputs": [],
   "source": [
    "model = net_by_png()\n",
    "\n",
    "for layer in model:\n",
    "    layer.weight.data.fill_(1)\n",
    "    layer.bias.data.fill_(1)\n",
    "\n",
    "\n",
    "x = torch.FloatTensor([[1,2,3,4],[-1,2,-3,4]])\n",
    "result = model(x).detach()\n",
    "\n",
    "answer = torch.FloatTensor([[16288., 16288., 16288.],\n",
    "                            [ 4768.,  4768.,  4768.]])\n",
    "\n",
    "assert torch.allclose(result, answer, atol=1e-2)\n",
    "\n",
    "#############################################################################\n",
    "\n",
    "x = torch.FloatTensor([[1,-2,-3,-4],[-1,0,1,56]])\n",
    "result = model(x).detach()\n",
    "\n",
    "answer = torch.FloatTensor([[-9632., -9632., -9632.],\n",
    "                            [82528., 82528., 82528.]])\n",
    "\n",
    "assert torch.allclose(result, answer, atol=1e-2)"
   ]
  },
  {
   "cell_type": "markdown",
   "metadata": {},
   "source": [
    "# SLIDE (2) Линейный слой"
   ]
  },
  {
   "cell_type": "markdown",
   "metadata": {},
   "source": [
    "Вам надо реализовать линейный слой (матричное умножение) нейронной сети.\n",
    "\n",
    "У нас есть 3 шага: \n",
    "\n",
    "* Forward: на вход получаем объект-вектор и пускаем его через веса (матричное умножение). $u_{current} = Wx$\n",
    "\n",
    "* Backward: получили ошибки (градиенты по выходам) с прошлого слоя $\\varepsilon_{last} = \\frac{\\partial L}{\\partial u_{last}}$ ($u_{last}$ - вектор значений выходов на предыдущем слое). Теперь нам надо посчитать градиенты на текущем слое (пустить ошибку назад). В этом случае у нас также происходит матричное умножение, только не объекта, а градиентов. $\\varepsilon_{new} = W^T\\varepsilon_{last}$\n",
    "\n",
    "<img src=\"images/backward.png\" width=200 />\n",
    "\n",
    "* Gradient weights. Запись градиентов весов. $\\frac{\\partial L}{\\partial W} = \\frac{\\partial L}{\\partial u_{current}}\\frac{\\partial u_{current}}{\\partial W} = \\varepsilon_{current}x$\n",
    "\n",
    "\n",
    "Как вы заметили на паре через модель можно пускать несколько объектов, поэтому ваша задача сделать операции используя `broadcasting`."
   ]
  },
  {
   "cell_type": "markdown",
   "metadata": {},
   "source": [
    "# TASK"
   ]
  },
  {
   "cell_type": "code",
   "execution_count": null,
   "metadata": {},
   "outputs": [],
   "source": [
    "class Linear():\n",
    "    def __init__(self, n_in, n_out):#инициализацию трогать не надо\n",
    "        stdv = 1./np.sqrt(n_in)\n",
    "        self.W = np.random.uniform(-stdv, stdv, size = (n_out, n_in)) # веса - произвольные\n",
    "        self.b = np.random.uniform(-stdv, stdv, size = n_out)      \n",
    "        self.gradW = np.zeros_like(self.W) # градиенты изначально нули\n",
    "        self.gradb = np.zeros_like(self.b) \n",
    "        \n",
    "    def forward(self, input: np.ndarray): #input batch x n_in\n",
    "        self.output = ### ╰( ͡° ͜ʖ ͡° )つ──☆*:・ﾟ\n",
    "        return self.output\n",
    "    \n",
    "    def backward(self, gradOutput: np.ndarray): #gradOutput batch x n_out\n",
    "        self.gradInput = ### ╰( ͡° ͜ʖ ͡° )つ──☆*:・ﾟ\n",
    "        return self.gradInput\n",
    "    \n",
    "    def findGrads(self, input: np.ndarray, gradOutput: np.ndarray): #gradOutput dL/dy\n",
    "        self.gradW = ### ╰( ͡° ͜ʖ ͡° )つ──☆*:・ﾟ\n",
    "        self.gradb = ### ╰( ͡° ͜ʖ ͡° )つ──☆*:・ﾟ"
   ]
  },
  {
   "cell_type": "code",
   "execution_count": 233,
   "metadata": {},
   "outputs": [],
   "source": [
    "np.random.seed(36)\n",
    "torch.manual_seed(36)\n",
    "\n",
    "batch_size, n_in, n_out = 2, 3, 4\n",
    "for _ in range(10):\n",
    "    # layers initialization\n",
    "    torch_layer = torch.nn.Linear(n_in, n_out)\n",
    "    \n",
    "    custom_layer = Linear(n_in, n_out)\n",
    "    custom_layer.W = torch_layer.weight.data.numpy()\n",
    "    custom_layer.b = torch_layer.bias.data.numpy()\n",
    "\n",
    "    layer_input     = np.random.uniform(-10, 10, (batch_size, n_in)).astype(np.float32)\n",
    "    next_layer_grad = np.random.uniform(-10, 10, (batch_size, n_out)).astype(np.float32)\n",
    "\n",
    "    # 1. check layer output\n",
    "    custom_layer_output = custom_layer.forward(layer_input)\n",
    "    \n",
    "    layer_input_var = torch.tensor(layer_input, requires_grad=True)\n",
    "    torch_layer_output_var = torch_layer(layer_input_var)\n",
    "    assert np.allclose(torch_layer_output_var.data.numpy(), custom_layer_output, atol=1e-6)\n",
    "\n",
    "    # 2. check layer input grad\n",
    "    custom_layer_grad = custom_layer.backward(next_layer_grad)\n",
    "    \n",
    "    torch_layer_output_var.backward(torch.from_numpy(next_layer_grad))\n",
    "    torch_layer_grad_var = layer_input_var.grad\n",
    "    assert np.allclose(torch_layer_grad_var.data.numpy(), custom_layer_grad, atol=1e-6)\n",
    "\n",
    "    # 3. check layer parameters grad\n",
    "    custom_layer.findGrads(layer_input, next_layer_grad)\n",
    "    \n",
    "    weight_grad = custom_layer.gradW\n",
    "    bias_grad = custom_layer.gradb\n",
    "    torch_weight_grad = torch_layer.weight.grad.data.numpy()\n",
    "    torch_bias_grad = torch_layer.bias.grad.data.numpy()\n",
    "    \n",
    "    assert np.allclose(torch_weight_grad, weight_grad, atol=1e-6)\n",
    "    assert np.allclose(torch_bias_grad, bias_grad, atol=1e-6)"
   ]
  },
  {
   "cell_type": "markdown",
   "metadata": {},
   "source": [
    "# SLIDE (1) MSELoss"
   ]
  },
  {
   "cell_type": "markdown",
   "metadata": {},
   "source": [
    "В данной задаче вам нужно реализовать ваш любимый MSE, но теперь он еще должен уметь возвращать градиент по входящим переменным, чтобы его можно было использовать в нейросетях.\n",
    "\n",
    "Реализация должна быть написана на `numpy`, а не `torch`, чтобы вы сами взяли производную, а не вызывали backward."
   ]
  },
  {
   "cell_type": "code",
   "execution_count": null,
   "metadata": {},
   "outputs": [],
   "source": [
    "class MSECriterion():\n",
    "    def forward(self, input: np.array, target: np.array): # batch x n_in\n",
    "        self.input = input\n",
    "        self.target = target\n",
    "        loss = ### ╰( ͡° ͜ʖ ͡° )つ──☆*:・ﾟ\n",
    "        return loss \n",
    " \n",
    "    def backward(self):\n",
    "        gradients  = ### ╰( ͡° ͜ʖ ͡° )つ──☆*:・ﾟ\n",
    "        return gradients"
   ]
  },
  {
   "cell_type": "code",
   "execution_count": 110,
   "metadata": {},
   "outputs": [],
   "source": [
    "np.random.seed(41)\n",
    "torch.manual_seed(41)\n",
    "\n",
    "batch_size, n_in, n_out = 5, 1, 1\n",
    "for _ in range(10):\n",
    "    # layers initialization\n",
    "    torch_layer = torch.nn.MSELoss()\n",
    "    my_layer = MSECriterion()\n",
    "\n",
    "    # input initialization\n",
    "    np_input  = np.random.uniform(-10, 10, (batch_size, 1))\n",
    "    np_target = np.random.uniform(-10, 10, (batch_size, 1))\n",
    "\n",
    "    tensor_input = torch.tensor(np_input, requires_grad=True)\n",
    "    tensor_target= torch.tensor(np_target)\n",
    "     \n",
    "    # 1. check layer output\n",
    "    \n",
    "    my_loss    = my_layer.forward(np_input, np_target)\n",
    "    torch_loss = torch_layer(tensor_input, tensor_target) #создали ноду с лоссом\n",
    "    \n",
    "    assert np.allclose(torch_loss.data.numpy(), my_loss, atol=1e-2)\n",
    "\n",
    "    # 2. check layer input grad\n",
    "    my_loss_grad = my_layer.backward()\n",
    "    \n",
    "    torch_loss.backward()\n",
    "    \n",
    "    assert np.allclose(tensor_input.grad.data.numpy(), my_loss_grad, atol=1e-2)\n"
   ]
  },
  {
   "cell_type": "markdown",
   "metadata": {},
   "source": [
    "# SLIDE (1) Optimizer"
   ]
  },
  {
   "cell_type": "markdown",
   "metadata": {},
   "source": [
    "Напишем SGD оптимизатор с улучшением Momentum. \n",
    "\n",
    "Вспоминаем как было на линейке. Благо сейчас градиент считать не нужно. \n",
    "\n",
    "Улучшение Momentum:\n",
    "$$ g_t = \\gamma g_{t - 1} + \\eta \\nabla_{w}L^i$$\n",
    "$$ w^{(t+1)} = w^{(t)} - g_t$$\n",
    "\n",
    "где\n",
    "\n",
    " - $\\eta$ — learning rate\n",
    " - $w$ — вектор параметров\n",
    " - $L$ — оптимизируемый функционал\n",
    " - $\\gamma$ — momentum term (обычно выбирается 0.9)\n",
    "\n",
    "\n",
    "- `list_of_weights`   - лист листов с массивом весов из вершины сети\n",
    "- `list_of_gradients` - лист листов с массивом градинтов весов из вершины сети\n",
    "- `config` - словарь с оптимизационными параметрами (`learning_rate` and `momentum`)\n",
    "- `state` - словарь, чтобы кэшировать градиенты"
   ]
  },
  {
   "cell_type": "markdown",
   "metadata": {},
   "source": [
    "# TASK"
   ]
  },
  {
   "cell_type": "code",
   "execution_count": 234,
   "metadata": {},
   "outputs": [],
   "source": [
    "def sgd_momentum(list_of_weights: list, \n",
    "                 list_of_gradients: list, \n",
    "                 config: dict, \n",
    "                 state: dict):  \n",
    "    \n",
    "    state.setdefault('accumulated_grads', {})\n",
    "    \n",
    "    layer_index = 0 \n",
    "    for current_layer_weights, current_layer_grads in zip(list_of_weights, list_of_gradients): \n",
    "        for current_node_weights, current_node_grads in zip(current_layer_weights, current_layer_grads):\n",
    "            old_grad = state['accumulated_grads'].setdefault(layer_index, np.zeros_like(current_node_grad)) # g_{t-1}\n",
    "            \n",
    "            ### ╰( ͡° ͜ʖ ͡° )つ──☆*:・ﾟ\n",
    "            \n",
    "            layer_index += 1     "
   ]
  },
  {
   "cell_type": "code",
   "execution_count": 239,
   "metadata": {},
   "outputs": [],
   "source": [
    "state = {}  \n",
    "config = {'learning_rate': 1e-3, 'momentum': 0.9}\n",
    "\n",
    "# У 2-х слойной сети 2 набора входов и 2 набора градиентов этих входов\n",
    "variables = [[np.arange(3).astype(np.float64)], \n",
    "             [np.array([1.]), np.array([1.]), np.array([1.])]]\n",
    "\n",
    "gradients = [[np.arange(3).astype(np.float64)], \n",
    "             [np.array([1.]), np.array([1.]), np.array([1.])]]\n",
    "\n",
    "\n",
    "sgd_momentum(variables, gradients, config, state)\n",
    "assert np.allclose(state['accumulated_grads'][0], np.array([0., 0.001, 0.002]))\n",
    "\n",
    "\n",
    "sgd_momentum(variables, gradients, config, state)\n",
    "assert np.allclose(state['accumulated_grads'][0], np.array([0., 0.0019, 0.0038]))\n",
    "\n",
    "\n",
    "sgd_momentum(variables, gradients, config, state)\n",
    "assert np.allclose(state['accumulated_grads'][0], np.array([0., 0.00271, 0.00542]))\n"
   ]
  },
  {
   "cell_type": "markdown",
   "metadata": {},
   "source": [
    "# SLIDE (1) Давай еще раз..."
   ]
  },
  {
   "cell_type": "markdown",
   "metadata": {},
   "source": [
    "Постройте и обучите нейросеть для регрессии на данных и верните обученную нейросеть.\n",
    "\n",
    "Не делайте сеть слишком большой, один-два слоя должно хватить. Функция простая. Ваше обучение должно уложиться в 10 секунд.\n",
    "\n",
    "Если не получается, можете поиграться с разными оптимайзерами и разными `learning rate`"
   ]
  },
  {
   "cell_type": "code",
   "execution_count": 145,
   "metadata": {},
   "outputs": [
    {
     "ename": "IndentationError",
     "evalue": "expected an indented block (<ipython-input-145-da2c7f0472c5>, line 25)",
     "output_type": "error",
     "traceback": [
      "\u001b[0;36m  File \u001b[0;32m\"<ipython-input-145-da2c7f0472c5>\"\u001b[0;36m, line \u001b[0;32m25\u001b[0m\n\u001b[0;31m    return model\u001b[0m\n\u001b[0m    ^\u001b[0m\n\u001b[0;31mIndentationError\u001b[0m\u001b[0;31m:\u001b[0m expected an indented block\n"
     ]
    }
   ],
   "source": [
    "from torch.nn import Linear, Sequential, Flatten\n",
    "\n",
    "def learningNN(X: torch.FloatTensor, y: torch.FloatTensor) -> torch.nn.Sequential:\n",
    "    \n",
    "    model = Sequential(\n",
    "        # строим сеть\n",
    "        ### ╰( ͡° ͜ʖ ͡° )つ──☆*:・ﾟ\n",
    "    )\n",
    "\n",
    "    # Обозначили лосс MSE \n",
    "    loss_fn ### ╰( ͡° ͜ʖ ͡° )つ──☆*:・ﾟ\n",
    "\n",
    "    # Выбрали алгоритм оптимизации\n",
    "    optimizer ### ╰( ͡° ͜ʖ ͡° )つ──☆*:・ﾟ\n",
    "\n",
    "    # Обучаем\n",
    "    for epoch in range(1000):\n",
    "\n",
    "        # 1. Forward\n",
    "        # 2. Loss\n",
    "        # 3. Zero Grad\n",
    "        # 4. Backward\n",
    "        # 5. Update Weights\n",
    "    \n",
    "    return model\n"
   ]
  },
  {
   "cell_type": "code",
   "execution_count": 227,
   "metadata": {},
   "outputs": [],
   "source": [
    "# Подготовили данные \n",
    "\n",
    "x = torch.linspace(1, math.pi, 200)\n",
    "y = torch.log(x) + torch.sin(x)\n",
    "p = torch.tensor([1, 2, 3])\n",
    "xx = x.unsqueeze(-1).pow(p)\n",
    "\n",
    "model = learningNN(xx, y)\n",
    "\n",
    "assert torch.nn.MSELoss()(y, model(xx)) < 0.05"
   ]
  },
  {
   "cell_type": "code",
   "execution_count": 228,
   "metadata": {},
   "outputs": [
    {
     "data": {
      "image/png": "[encoded data removed]",
      "text/plain": [
       "<Figure size 432x288 with 1 Axes>"
      ]
     },
     "metadata": {
      "needs_background": "light"
     },
     "output_type": "display_data"
    }
   ],
   "source": [
    "# просто рисовалка   \n",
    "plt.plot(x, y, label='sin')\n",
    "plt.plot(x, model(xx).detach().numpy(), label='polynom')\n",
    "plt.xlabel('x')\n",
    "plt.ylabel('y')\n",
    "\n",
    "plt.legend()\n",
    "plt.grid()"
   ]
  }
 ],
 "metadata": {
  "kernelspec": {
   "display_name": "Python 3",
   "language": "python",
   "name": "python3"
  },
  "language_info": {
   "codemirror_mode": {
    "name": "ipython",
    "version": 3
   },
   "file_extension": ".py",
   "mimetype": "text/x-python",
   "name": "python",
   "nbconvert_exporter": "python",
   "pygments_lexer": "ipython3",
   "version": "3.8.5"
  }
 },
 "nbformat": 4,
 "nbformat_minor": 4
}
