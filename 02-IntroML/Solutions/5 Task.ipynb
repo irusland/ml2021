{
 "cells": [
  {
   "cell_type": "code",
   "execution_count": 33,
   "id": "indian-british",
   "metadata": {},
   "outputs": [],
   "source": [
    "import numpy as np\n",
    "\n",
    "\n",
    "class LinReg():\n",
    "    def __init__(self):\n",
    "        self.coef_ = None\n",
    "        self.theta = None\n",
    "\n",
    "    def fit(self, X_train: np.array, y_train: np.array):\n",
    "        X_train = X_train.T\n",
    "        X_train = np.vstack((np.ones_like(X_train), X_train))\n",
    "        y_train = np.array([y_train]).T\n",
    "        one = np.linalg.pinv(np.dot(X_train, X_train.T))\n",
    "        two = np.dot(X_train, y_train)\n",
    "        theta = np.dot(one.T, two)\n",
    "        \n",
    "        self.theta = theta\n",
    "        self.coef_ = np.concatenate(theta.T)[::-1]\n",
    "        return self\n",
    "\n",
    "    def predict(self, X_test: np.array):\n",
    "        X_test = X_test.T\n",
    "        X_test = np.vstack((np.ones_like(X_test), X_test))\n",
    "        y_pred = np.dot(X_test.T, self.theta).T\n",
    "        return np.concatenate(y_pred)"
   ]
  },
  {
   "cell_type": "code",
   "execution_count": 35,
   "id": "bacterial-morocco",
   "metadata": {},
   "outputs": [],
   "source": [
    "from numpy.testing import assert_array_almost_equal\n",
    "######################################################\n",
    "X_reg = np.array([[1], [2]])\n",
    "y_reg = np.array([1, 2])\n",
    "\n",
    "model = LinReg().fit(X_reg, y_reg)\n",
    "assert_array_almost_equal(model.predict(np.array([[3],[4]])), np.array([3, 4]), decimal=2)\n",
    "\n",
    "assert_array_almost_equal(model.predict(np.array([[0]])), np.array([0]), decimal=2)\n",
    "\n",
    "assert_array_almost_equal(model.coef_, np.array([1., 0.]), decimal=2)\n",
    "######################################################\n",
    "from sklearn.datasets import make_regression\n",
    "from sklearn.linear_model import LinearRegression\n",
    "\n",
    "X_reg, y_reg = make_regression(n_samples=200, n_features=1, n_targets=1)\n",
    "\n",
    "model = LinearRegression().fit(X_reg, y_reg)\n",
    "model2 = LinReg().fit(X_reg, y_reg)\n",
    "\n",
    "coef_real = np.array([model.coef_[0], model.predict(np.array([[0]]))[0]])\n",
    "coef_my = model2.coef_\n",
    "\n",
    "assert_array_almost_equal(coef_my, coef_real, decimal=3)\n",
    "######################################################\n",
    "from sklearn.datasets import make_regression\n",
    "from sklearn.linear_model import LinearRegression\n",
    "\n",
    "X_reg, y_reg = make_regression(n_samples=1200, n_features=1, n_targets=1)\n",
    "\n",
    "model = LinearRegression().fit(X_reg, y_reg)\n",
    "model2 = LinReg().fit(X_reg, y_reg)\n",
    "\n",
    "coef_real = np.array([model.coef_[0], model.predict(np.array([[0]]))[0]])\n",
    "coef_my = model2.coef_\n",
    "\n",
    "assert_array_almost_equal(coef_my, coef_real, decimal=3)\n",
    "######################################################"
   ]
  },
  {
   "cell_type": "code",
   "execution_count": null,
   "id": "collaborative-venue",
   "metadata": {},
   "outputs": [],
   "source": []
  }
 ],
 "metadata": {
  "kernelspec": {
   "display_name": "Python 3",
   "language": "python",
   "name": "python3"
  },
  "language_info": {
   "codemirror_mode": {
    "name": "ipython",
    "version": 3
   },
   "file_extension": ".py",
   "mimetype": "text/x-python",
   "name": "python",
   "nbconvert_exporter": "python",
   "pygments_lexer": "ipython3",
   "version": "3.9.0"
  }
 },
 "nbformat": 4,
 "nbformat_minor": 5
}
