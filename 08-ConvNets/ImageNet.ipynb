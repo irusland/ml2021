{
 "cells": [
  {
   "cell_type": "markdown",
   "metadata": {
    "id": "Fn6G8mKJugFf"
   },
   "source": [
    "# Теперь давай ваще что-то клевое"
   ]
  },
  {
   "cell_type": "markdown",
   "metadata": {},
   "source": [
    "Загрузить датасет `tiny-imagenet-200.zip` можно по [ссылке](https://drive.google.com/drive/folders/1yYkCePVxPGjSLZS4IxTDFzKxzor_kjMT?usp=sharing)."
   ]
  },
  {
   "cell_type": "code",
   "execution_count": 2,
   "metadata": {
    "id": "Byryjnc03uHX"
   },
   "outputs": [],
   "source": [
    "import numpy as np\n",
    "import matplotlib.pyplot as plt\n",
    "import torchvision\n",
    "import torch\n",
    "from torch import nn\n",
    "from torchvision import transforms\n",
    "from time import time\n",
    "import pandas as pd\n",
    "from torch.utils.data import DataLoader, Dataset\n",
    "import os\n",
    "from PIL import Image\n",
    "import time\n",
    "import torch, torch.nn as nn\n",
    "import torch.nn.functional as F\n",
    "from torch.autograd import Variable\n",
    "from torch.utils.checkpoint import checkpoint_sequential\n",
    "from IPython.display import clear_output\n",
    "%matplotlib inline"
   ]
  },
  {
   "cell_type": "markdown",
   "metadata": {
    "id": "y8tcjLZyxtY1"
   },
   "source": [
    "## Данные"
   ]
  },
  {
   "cell_type": "code",
   "execution_count": 10,
   "metadata": {
    "colab": {
     "base_uri": "https://localhost:8080/"
    },
    "id": "bnIvuUk3wTRb",
    "outputId": "2d59acee-5750-44d8-ac89-19420c308df5"
   },
   "outputs": [
    {
     "name": "stdout",
     "output_type": "stream",
     "text": [
      "Mounted at /content/drive\n"
     ]
    }
   ],
   "source": [
    "from google.colab import drive\n",
    "drive.mount('/content/drive')"
   ]
  },
  {
   "cell_type": "code",
   "execution_count": null,
   "metadata": {
    "id": "y1KYRaMZuptg"
   },
   "outputs": [],
   "source": [
    "!unzip /content/drive/MyDrive/ml2021/tiny-imagenet-200.zip"
   ]
  },
  {
   "cell_type": "code",
   "execution_count": 13,
   "metadata": {
    "id": "vtdELGZATSFh"
   },
   "outputs": [],
   "source": [
    "class ValDataset(Dataset):\n",
    "    def __init__(self, csv_file, root, transform=None):\n",
    "        self.info = pd.read_csv(csv_file, sep='\\t', header=None)\n",
    "        self.root = root\n",
    "        self.transform = transform\n",
    "        classes = pd.read_csv('tiny-imagenet-200/wnids.txt', sep='\\t', header=None).sort_values(0).reset_index(drop=True)\n",
    "        self.classes_dict = {classes[0][i]:i for i in range(200)} # class id to class\n",
    "\n",
    "    def __len__(self):\n",
    "        return len(self.info)\n",
    "\n",
    "    def __getitem__(self, idx):\n",
    "        img_name = os.path.join(self.root, self.info.iloc[idx, 0])\n",
    "        image = np.asarray(Image.open(img_name).convert('RGB'))\n",
    "        target = self.classes_dict[self.info.iloc[idx, 1]]\n",
    "\n",
    "        if self.transform:\n",
    "            image = self.transform(image)\n",
    "\n",
    "        return image, target\n"
   ]
  },
  {
   "cell_type": "code",
   "execution_count": 14,
   "metadata": {
    "id": "ts2zDoUJi2r7"
   },
   "outputs": [],
   "source": [
    "transform_train = transforms.Compose([\n",
    "    transforms.RandomCrop(64, padding=4),\n",
    "    transforms.RandomHorizontalFlip(),\n",
    "    transforms.RandomAffine(15),\n",
    "    transforms.ToTensor(),\n",
    "    transforms.Normalize((0.4914, 0.4822, 0.4465), (0.2023, 0.1994, 0.2010)),\n",
    "])\n",
    "\n",
    "transform_test = transforms.Compose([\n",
    "    transforms.ToTensor(),\n",
    "    transforms.Normalize((0.4914, 0.4822, 0.4465), (0.2023, 0.1994, 0.2010)),\n",
    "])\n",
    "\n",
    "dataset = torchvision.datasets.ImageFolder('tiny-imagenet-200/train', transform=transform_train)\n",
    "train_dataset, val_dataset = torch.utils.data.random_split(dataset, [80000, 20000])\n",
    "test_dataset  = ValDataset(csv_file='tiny-imagenet-200/val/val_annotations.txt',\n",
    "                          root='tiny-imagenet-200/val/images',   \n",
    "                          transform=transform_test)"
   ]
  },
  {
   "cell_type": "code",
   "execution_count": 15,
   "metadata": {
    "colab": {
     "base_uri": "https://localhost:8080/"
    },
    "id": "SsKxLZrB4Yjt",
    "outputId": "1c0453be-937b-418a-e2dc-5428f0ade6b9"
   },
   "outputs": [
    {
     "name": "stderr",
     "output_type": "stream",
     "text": [
      "/usr/local/lib/python3.7/dist-packages/torch/utils/data/dataloader.py:477: UserWarning: This DataLoader will create 8 worker processes in total. Our suggested max number of worker in current system is 2, which is smaller than what this DataLoader is going to create. Please be aware that excessive worker creation might get DataLoader running slow or even freeze, lower the worker number to avoid potential slowness/freeze if necessary.\n",
      "  cpuset_checked))\n",
      "/usr/local/lib/python3.7/dist-packages/torch/utils/data/dataloader.py:477: UserWarning: This DataLoader will create 4 worker processes in total. Our suggested max number of worker in current system is 2, which is smaller than what this DataLoader is going to create. Please be aware that excessive worker creation might get DataLoader running slow or even freeze, lower the worker number to avoid potential slowness/freeze if necessary.\n",
      "  cpuset_checked))\n"
     ]
    }
   ],
   "source": [
    "batch_size = 64\n",
    "dataloaders = {\n",
    "    'train': DataLoader(train_dataset, batch_size=batch_size, shuffle=True, num_workers=2),\n",
    "    'val'  : DataLoader(val_dataset,   batch_size=batch_size, shuffle=True, num_workers=2),\n",
    "    'test' : DataLoader(test_dataset,  batch_size=batch_size, shuffle=True, num_workers=2) \n",
    "}"
   ]
  },
  {
   "cell_type": "markdown",
   "metadata": {
    "id": "OLCMtIjqyyz_"
   },
   "source": [
    "## Modelling"
   ]
  },
  {
   "cell_type": "code",
   "execution_count": 16,
   "metadata": {
    "id": "N16OAqE3kw7d"
   },
   "outputs": [],
   "source": [
    "# a special module that converts [batch, channel, w, h] to [batch, units]\n",
    "class Flatten(nn.Module):\n",
    "    def forward(self, input):\n",
    "        return input.view(input.size(0), -1)\n",
    "\n",
    "class Accuracy(nn.Module):\n",
    "    def __init__(self):\n",
    "        super(Accuracy, self).__init__()\n",
    "\n",
    "    def forward(self, outputs, targets):\n",
    "        return torch.mean((outputs == targets).double())"
   ]
  },
  {
   "cell_type": "code",
   "execution_count": 17,
   "metadata": {
    "id": "yndumNe3o99H"
   },
   "outputs": [],
   "source": [
    "def block(cin, cout, kernel_size=(3,3), padding=(1,1), stride=(1,1), pool_size=(2,2)):\n",
    "    return nn.Sequential(\n",
    "        nn.Conv2d(in_channels=cin, \n",
    "                  out_channels=cout, \n",
    "                  kernel_size=kernel_size, \n",
    "                  padding=padding, \n",
    "                  stride=stride),\n",
    "        nn.BatchNorm2d(num_features=cout),\n",
    "        nn.LeakyReLU(),\n",
    "        nn.MaxPool2d(kernel_size=pool_size)\n",
    "    )\n",
    "\n",
    "def get_model(cin=3, cout=200, base=64, drop=0.2):\n",
    "    return torch.nn.Sequential(\n",
    "        block(cin=cin, \n",
    "              cout=base),\n",
    "        block(cin=base, \n",
    "              cout=base*2),\n",
    "        nn.Dropout(0.2),\n",
    "        block(cin=base*2, \n",
    "              cout=base*4),\n",
    "        block(cin=base*4, \n",
    "              cout=base*8),\n",
    "        nn.Flatten(),\n",
    "        nn.Dropout(drop),\n",
    "        nn.Linear(in_features=base*8*4*4, \n",
    "                  out_features=base*16),\n",
    "        nn.ReLU(),\n",
    "        nn.Dropout(drop),\n",
    "        nn.Linear(in_features=base*16, \n",
    "                  out_features=cout)\n",
    "    )"
   ]
  },
  {
   "cell_type": "markdown",
   "metadata": {
    "id": "tq9OE69Qz83M"
   },
   "source": [
    "## Training"
   ]
  },
  {
   "cell_type": "code",
   "execution_count": 23,
   "metadata": {
    "id": "K3sy7yucpyO1"
   },
   "outputs": [],
   "source": [
    "def train_epoch(model, dataloader, criterion, metric, device, optimizer):\n",
    "    total_loss = 0\n",
    "    total_acc  = 0\n",
    "    n = len(dataloader)    \n",
    "\n",
    "    model.train(True)\n",
    "    for i_batch, (X_batch, y_batch) in enumerate(dataloader):\n",
    "        \n",
    "        X_batch = X_batch.to(device)\n",
    "        y_batch = y_batch.to(device)\n",
    "        \n",
    "        X_batch.requires_grad = True\n",
    "        out = model(X_batch)\n",
    "\n",
    "        loss = criterion(out, y_batch)\n",
    "        loss.backward()\n",
    "        total_loss += loss.item()\n",
    "\n",
    "        _, y_preds = torch.max(out, 1)\n",
    "        total_acc += metric(y_preds, y_batch).item()\n",
    "\n",
    "        optimizer.step()\n",
    "        optimizer.zero_grad()\n",
    "\n",
    "\n",
    "    av_loss = total_loss / n\n",
    "    av_acc  = total_acc  / n\n",
    "\n",
    "    return av_loss, av_acc"
   ]
  },
  {
   "cell_type": "code",
   "execution_count": 19,
   "metadata": {
    "id": "1vzRjhSwrAq9"
   },
   "outputs": [],
   "source": [
    "@torch.no_grad()\n",
    "def eval_model(model, dataloader, criterion, metric, device):\n",
    "    total_acc = 0\n",
    "    n = len(dataloader)  \n",
    "    \n",
    "    model.eval()\n",
    "    for X_batch, y_batch in dataloader:\n",
    "        X_batch = X_batch.to(device)\n",
    "        y_batch = y_batch.to(device)\n",
    " \n",
    "        out = model(X_batch)\n",
    "        _, y_preds = torch.max(out, 1)\n",
    "        total_acc += metric(y_preds, y_batch).item()\n",
    " \n",
    "    av_acc = total_acc / n\n",
    " \n",
    "    return av_acc"
   ]
  },
  {
   "cell_type": "code",
   "execution_count": null,
   "metadata": {},
   "outputs": [],
   "source": [
    "@torch.no_grad()\n",
    "def get_result(model, dataloader, device):\n",
    "    n = len(dataloader)  \n",
    "    answer = torch.empty(0)\n",
    "\n",
    "    model.eval()\n",
    "    for X_batch, _ in dataloader:\n",
    "        X_batch = X_batch.to(device)\n",
    " \n",
    "        out = model(X_batch)\n",
    "\n",
    "        answer = torch.cat([answer, out.argmax(-1).to('cpu')])\n",
    "\n",
    "    return answer"
   ]
  },
  {
   "cell_type": "code",
   "execution_count": 20,
   "metadata": {
    "id": "feizFsZT26Of"
   },
   "outputs": [],
   "source": [
    "def draw_accuracy(log):\n",
    "    clear_output(True)\n",
    "    np_log = np.array(log)\n",
    "    plt.title(\"Accuracy\")\n",
    "    plt.plot(np_log[:, 0], label='train')\n",
    "    plt.plot(np_log[:, 1], label='val')\n",
    "    plt.grid()\n",
    "    plt.legend()\n",
    "    plt.show()\n"
   ]
  },
  {
   "cell_type": "code",
   "execution_count": 24,
   "metadata": {
    "id": "dgUK62QdrH8n"
   },
   "outputs": [],
   "source": [
    "def train_model(model, dataloaders, optimizer,\n",
    "                criterion=nn.CrossEntropyLoss(), \n",
    "                metric=Accuracy(), \n",
    "                device=torch.device(\"cuda:0\" if torch.cuda.is_available() else 'cpu'), \n",
    "                epochs=50):\n",
    "    \n",
    "    model = model.to(device)\n",
    "    log_acc = []\n",
    "    for epoch in range(epochs):\n",
    "        start_time = time.time()\n",
    "        \n",
    "        loss, train_acc = train_epoch(model, dataloaders['train'], criterion, metric, device, optimizer)   \n",
    "        \n",
    "        val_acc  =         eval_model(model, dataloaders['val'],   criterion, metric, device)\n",
    "\n",
    "        log_acc.append((train_acc, val_acc))\n",
    "        \n",
    "        draw_accuracy(log_acc)\n",
    " \n",
    "        print(\"Epoch [{}/{}] Time: {:.2f}s; TrainLoss: {:.4f}; TrainAccuracy: {:.4f}; ValAccuracy: {:.4f}\".format(\n",
    "              epoch + 1, epochs, time.time() - start_time, loss, train_acc, val_acc))    \n",
    "    \n",
    "    return model, val_acc"
   ]
  },
  {
   "cell_type": "markdown",
   "metadata": {},
   "source": [
    "# Обучение модели"
   ]
  },
  {
   "cell_type": "code",
   "execution_count": null,
   "metadata": {
    "colab": {
     "base_uri": "https://localhost:8080/",
     "height": 353
    },
    "id": "rtLlXxnMTpfn",
    "outputId": "9cceab7d-c218-4784-aea3-11848053af64"
   },
   "outputs": [
    {
     "data": {
      "image/png": "[encoded data removed]",
      "text/plain": [
       "<Figure size 432x288 with 1 Axes>"
      ]
     },
     "metadata": {
      "needs_background": "light",
      "tags": []
     },
     "output_type": "display_data"
    },
    {
     "name": "stdout",
     "output_type": "stream",
     "text": [
      "Epoch [12/50] Time: 68.77s; TrainLoss: 3.3974; TrainAccuracy: 0.2319; ValAccuracy: 0.2859, TestAccuracy: 0.2955\n"
     ]
    },
    {
     "name": "stderr",
     "output_type": "stream",
     "text": [
      "/usr/local/lib/python3.7/dist-packages/torch/utils/data/dataloader.py:477: UserWarning: This DataLoader will create 8 worker processes in total. Our suggested max number of worker in current system is 2, which is smaller than what this DataLoader is going to create. Please be aware that excessive worker creation might get DataLoader running slow or even freeze, lower the worker number to avoid potential slowness/freeze if necessary.\n",
      "  cpuset_checked))\n"
     ]
    }
   ],
   "source": [
    "torch.cuda.empty_cahce()\n",
    "model = get_model()\n",
    "\n",
    "for param in model.parameters():\n",
    "    param.requires_grad = True\n",
    "\n",
    "optimizer = torch.optim.Adam(model.parameters(), lr=0.001)\n",
    "\n",
    "trained_model, val_accuracy, test_accuracy = train_model(model=model, \n",
    "                                                         dataloaders=dataloaders, \n",
    "                                                         optimizer=optimizer, \n",
    "                                                         epochs=50)"
   ]
  },
  {
   "cell_type": "markdown",
   "metadata": {},
   "source": [
    "# Получение результата"
   ]
  },
  {
   "cell_type": "code",
   "execution_count": null,
   "metadata": {},
   "outputs": [],
   "source": [
    "device = torch.device(\"cuda:0\" if torch.cuda.is_available() else 'cpu')\n",
    "test_result = get_result(model, dataloader['test'], device)"
   ]
  },
  {
   "cell_type": "markdown",
   "metadata": {},
   "source": [
    "-----------------------------------\n",
    "## Другие Эксперименты"
   ]
  },
  {
   "cell_type": "code",
   "execution_count": null,
   "metadata": {
    "colab": {
     "base_uri": "https://localhost:8080/",
     "height": 334
    },
    "id": "Qr-IsJq3Rjz9",
    "outputId": "c257317d-c75d-4f98-ccb3-087464087f2f"
   },
   "outputs": [
    {
     "data": {
      "image/png": "[encoded data removed]",
      "text/plain": [
       "<Figure size 432x288 with 1 Axes>"
      ]
     },
     "metadata": {
      "tags": []
     },
     "output_type": "display_data"
    },
    {
     "name": "stdout",
     "output_type": "stream",
     "text": [
      "Epoch [31/50] Time: 74.80s; TrainLoss: 2.4074; TrainAccuracy: 0.4064; ValAccuracy: 0.3858, TestAccuracy: 0.4040\n",
      "Peak memory usage by Pytorch tensors: 660.85 Mb\n",
      "Full_time: 2356.09s\n"
     ]
    }
   ],
   "source": [
    "model = get_model()\n",
    "\n",
    "for param in model.parameters():\n",
    "    param.requires_grad = True\n",
    "\n",
    "optimizer = torch.optim.Adam(model.parameters(), lr=0.001)\n",
    "\n",
    "trained_model, val_accuracy, test_accuracy = train_model(model=model, \n",
    "                                                         dataloaders=dataloaders, \n",
    "                                                         optimizer=optimizer, \n",
    "                                                         epochs=50,\n",
    "                                                         max_acc=0.4,\n",
    "                                                         eff_batch_size=128)"
   ]
  }
 ],
 "metadata": {
  "accelerator": "GPU",
  "colab": {
   "name": "ImageNet.ipynb",
   "provenance": [],
   "toc_visible": true
  },
  "kernelspec": {
   "display_name": "Python 3",
   "language": "python",
   "name": "python3"
  },
  "language_info": {
   "codemirror_mode": {
    "name": "ipython",
    "version": 3
   },
   "file_extension": ".py",
   "mimetype": "text/x-python",
   "name": "python",
   "nbconvert_exporter": "python",
   "pygments_lexer": "ipython3",
   "version": "3.7.6"
  }
 },
 "nbformat": 4,
 "nbformat_minor": 4
}
