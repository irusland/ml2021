{
 "cells": [
  {
   "cell_type": "markdown",
   "metadata": {
    "id": "kXqsuXifjO_1"
   },
   "source": [
    "# Зарплата по описанию\n"
   ]
  },
  {
   "cell_type": "markdown",
   "metadata": {
    "id": "AuNiYgSN6rSj"
   },
   "source": [
    "## Загрузка либ"
   ]
  },
  {
   "cell_type": "code",
   "execution_count": 58,
   "metadata": {
    "id": "1BBGiQ3NjO_5"
   },
   "outputs": [],
   "source": [
    "import numpy as np\n",
    "import pandas as pd\n",
    "import matplotlib.pyplot as plt\n",
    "from sklearn.model_selection import train_test_split\n",
    "from collections import Counter\n",
    "import torch\n",
    "from torch.utils.data import Dataset, DataLoader\n",
    "import time\n",
    "from IPython.display import clear_output\n",
    "%matplotlib inline"
   ]
  },
  {
   "cell_type": "markdown",
   "metadata": {
    "id": "13Rw4HyRcoSl"
   },
   "source": [
    "## Данные"
   ]
  },
  {
   "cell_type": "markdown",
   "metadata": {
    "id": "o3nf8V20cyCI"
   },
   "source": [
    "### Загрузка"
   ]
  },
  {
   "cell_type": "code",
   "execution_count": 2,
   "metadata": {
    "colab": {
     "base_uri": "https://localhost:8080/"
    },
    "id": "boU1bzX3ZoI-",
    "outputId": "5706ca71-a48c-4de0-c30e-28c550d911b4"
   },
   "outputs": [
    {
     "name": "stdout",
     "output_type": "stream",
     "text": [
      "Mounted at /content/drive\n"
     ]
    }
   ],
   "source": [
    "from google.colab import drive\n",
    "drive.mount('/content/drive')"
   ]
  },
  {
   "cell_type": "code",
   "execution_count": 3,
   "metadata": {
    "colab": {
     "base_uri": "https://localhost:8080/"
    },
    "id": "l8biW4CCZsEP",
    "outputId": "8477fc06-7e1b-4a79-a3c9-9c8b8a79375b"
   },
   "outputs": [
    {
     "name": "stdout",
     "output_type": "stream",
     "text": [
      "Archive:  /content/drive/MyDrive/ml2021/job-salary-prediction.zip\n",
      "  inflating: Location_Tree.csv       \n",
      "  inflating: Test_rev1.7z            \n",
      "  inflating: Test_rev1.zip           \n",
      "  inflating: Train_rev1.7z           \n",
      "  inflating: Train_rev1.zip          \n",
      "  inflating: Valid_rev1.7z           \n",
      "  inflating: Valid_rev1.csv          \n",
      "  inflating: mean_benchmark.csv      \n",
      "  inflating: random_forest_benchmark_test_rev1.csv  \n",
      "  inflating: test.csv                \n"
     ]
    }
   ],
   "source": [
    "!unzip /content/drive/MyDrive/ml2021/job-salary-prediction.zip"
   ]
  },
  {
   "cell_type": "code",
   "execution_count": 4,
   "metadata": {
    "colab": {
     "base_uri": "https://localhost:8080/"
    },
    "id": "EhxFYYmOZ74b",
    "outputId": "b0fb4270-23ed-4d5e-c845-bdafd9910939"
   },
   "outputs": [
    {
     "name": "stdout",
     "output_type": "stream",
     "text": [
      "Archive:  /content/Train_rev1.zip\n",
      "  inflating: Train_rev1.csv          \n"
     ]
    }
   ],
   "source": [
    "!unzip /content/Train_rev1.zip "
   ]
  },
  {
   "cell_type": "code",
   "execution_count": 5,
   "metadata": {
    "colab": {
     "base_uri": "https://localhost:8080/"
    },
    "id": "jzlLAa5naPDI",
    "outputId": "4112e8dd-28fb-4d02-c576-7803115e7abf"
   },
   "outputs": [
    {
     "data": {
      "text/plain": [
       "(244768, 12)"
      ]
     },
     "execution_count": 5,
     "metadata": {
      "tags": []
     },
     "output_type": "execute_result"
    }
   ],
   "source": [
    "data = pd.read_csv(\"./Train_rev1.csv\", index_col=None)\n",
    "data.shape"
   ]
  },
  {
   "cell_type": "markdown",
   "metadata": {
    "id": "VNSKv4jac1IQ"
   },
   "source": [
    "### Обзор данных"
   ]
  },
  {
   "cell_type": "markdown",
   "metadata": {
    "id": "IEKuxBfBjPAQ"
   },
   "source": [
    "Одна из проблем с зарплатными данными - они распределены не нормально: многие получают средне и есть длинный хвост тех, кто получает очень много. \n",
    "\n",
    "Однако MSE будет сходится к среднему (которое нерепрезентативно в этом случае). \n",
    "\n",
    "Поэтому в данном случае мы логарифмируем таргет, чтобы привести его к более или менее нормальному распределению."
   ]
  },
  {
   "cell_type": "code",
   "execution_count": 6,
   "metadata": {
    "colab": {
     "base_uri": "https://localhost:8080/",
     "height": 0
    },
    "id": "_oI9HA57jPAT",
    "outputId": "28fe001f-8096-41e5-9801-2ab07cee51a5"
   },
   "outputs": [
    {
     "data": {
      "image/png": "[encoded data removed]",
      "text/plain": [
       "<Figure size 576x288 with 2 Axes>"
      ]
     },
     "metadata": {
      "needs_background": "light",
      "tags": []
     },
     "output_type": "display_data"
    }
   ],
   "source": [
    "data['Log1pSalary'] = np.log1p(data['SalaryNormalized']).astype('float32')\n",
    "\n",
    "plt.figure(figsize=[8, 4])\n",
    "plt.subplot(1, 2, 1)\n",
    "plt.hist(data[\"SalaryNormalized\"], bins=20);\n",
    "plt.grid()\n",
    "\n",
    "plt.subplot(1, 2, 2)\n",
    "plt.hist(data['Log1pSalary'], bins=20);\n",
    "plt.grid()"
   ]
  },
  {
   "cell_type": "markdown",
   "metadata": {
    "id": "hF4Z0R_MjPAZ"
   },
   "source": [
    "Разделим оставшиеся переменные на:\n",
    "* Текстовые\n",
    "* Категориальные\n",
    "\n",
    "заполним наны просто как строку 'Nan'"
   ]
  },
  {
   "cell_type": "code",
   "execution_count": 7,
   "metadata": {
    "colab": {
     "base_uri": "https://localhost:8080/",
     "height": 0
    },
    "id": "I912vr-PjPAa",
    "outputId": "338d83ed-7def-4a40-8a54-4abffae108ef"
   },
   "outputs": [
    {
     "data": {
      "text/html": [
       "<div>\n",
       "<style scoped>\n",
       "    .dataframe tbody tr th:only-of-type {\n",
       "        vertical-align: middle;\n",
       "    }\n",
       "\n",
       "    .dataframe tbody tr th {\n",
       "        vertical-align: top;\n",
       "    }\n",
       "\n",
       "    .dataframe thead th {\n",
       "        text-align: right;\n",
       "    }\n",
       "</style>\n",
       "<table border=\"1\" class=\"dataframe\">\n",
       "  <thead>\n",
       "    <tr style=\"text-align: right;\">\n",
       "      <th></th>\n",
       "      <th>Id</th>\n",
       "      <th>Title</th>\n",
       "      <th>FullDescription</th>\n",
       "      <th>LocationRaw</th>\n",
       "      <th>LocationNormalized</th>\n",
       "      <th>ContractType</th>\n",
       "      <th>ContractTime</th>\n",
       "      <th>Company</th>\n",
       "      <th>Category</th>\n",
       "      <th>SalaryRaw</th>\n",
       "      <th>SalaryNormalized</th>\n",
       "      <th>SourceName</th>\n",
       "      <th>Log1pSalary</th>\n",
       "    </tr>\n",
       "  </thead>\n",
       "  <tbody>\n",
       "    <tr>\n",
       "      <th>229779</th>\n",
       "      <td>72450096</td>\n",
       "      <td>Real Estate Economist</td>\n",
       "      <td>A leading planning and development consultancy...</td>\n",
       "      <td>Swanscombe Kent South East</td>\n",
       "      <td>Swanscombe</td>\n",
       "      <td>NaN</td>\n",
       "      <td>permanent</td>\n",
       "      <td>Judd Farris</td>\n",
       "      <td>Trade &amp; Construction Jobs</td>\n",
       "      <td>24000 - 26000 per annum + package</td>\n",
       "      <td>25000</td>\n",
       "      <td>totaljobs.com</td>\n",
       "      <td>10.126671</td>\n",
       "    </tr>\n",
       "    <tr>\n",
       "      <th>7360</th>\n",
       "      <td>64749035</td>\n",
       "      <td>Demi Chef De Partie  live in, coastal restaura...</td>\n",
       "      <td>Demi Chef De Partie  live in, coastal restaura...</td>\n",
       "      <td>East Anglia</td>\n",
       "      <td>Eastern England</td>\n",
       "      <td>NaN</td>\n",
       "      <td>NaN</td>\n",
       "      <td>Clear Selection</td>\n",
       "      <td>Hospitality &amp; Catering Jobs</td>\n",
       "      <td>16000 per annum</td>\n",
       "      <td>16000</td>\n",
       "      <td>caterer.com</td>\n",
       "      <td>9.680407</td>\n",
       "    </tr>\n",
       "    <tr>\n",
       "      <th>59102</th>\n",
       "      <td>68690012</td>\n",
       "      <td>Visual Artist, (****D Studio or Maya or Cinema...</td>\n",
       "      <td>Job Title: Visual Artist, (****D Studio or May...</td>\n",
       "      <td>Alcester Warwickshire West Midlands</td>\n",
       "      <td>Alcester</td>\n",
       "      <td>NaN</td>\n",
       "      <td>permanent</td>\n",
       "      <td>Coburg Banks IT Limited</td>\n",
       "      <td>Creative &amp; Design Jobs</td>\n",
       "      <td>20000 - 22000 per annum</td>\n",
       "      <td>21000</td>\n",
       "      <td>totaljobs.com</td>\n",
       "      <td>9.952325</td>\n",
       "    </tr>\n",
       "  </tbody>\n",
       "</table>\n",
       "</div>"
      ],
      "text/plain": [
       "              Id  ... Log1pSalary\n",
       "229779  72450096  ...   10.126671\n",
       "7360    64749035  ...    9.680407\n",
       "59102   68690012  ...    9.952325\n",
       "\n",
       "[3 rows x 13 columns]"
      ]
     },
     "execution_count": 7,
     "metadata": {
      "tags": []
     },
     "output_type": "execute_result"
    }
   ],
   "source": [
    "text_columns = [\"Title\", \"FullDescription\"]\n",
    "categorical_columns = [\"Category\", \"Company\", \"LocationNormalized\", \"ContractType\", \"ContractTime\"]\n",
    "target_column = \"Log1pSalary\"\n",
    "\n",
    "data[categorical_columns] = data[categorical_columns].fillna('NaN') # cast missing values to string \"NaN\"\n",
    "\n",
    "data.sample(3)"
   ]
  },
  {
   "cell_type": "markdown",
   "metadata": {
    "id": "kOd8m1F8jPAi"
   },
   "source": [
    "### Подготовка текста\n"
   ]
  },
  {
   "cell_type": "code",
   "execution_count": 8,
   "metadata": {
    "colab": {
     "base_uri": "https://localhost:8080/"
    },
    "id": "4GoQiv6mjPAk",
    "outputId": "a4796409-8b79-4fe8-fd7b-060e701df362"
   },
   "outputs": [
    {
     "name": "stdout",
     "output_type": "stream",
     "text": [
      "Raw text:\n",
      "2         Mathematical Modeller / Simulation Analyst / O...\n",
      "100002    A successful and high achieving specialist sch...\n",
      "200002    Web Designer  HTML, CSS, JavaScript, Photoshop...\n",
      "Name: FullDescription, dtype: object\n"
     ]
    }
   ],
   "source": [
    "print(\"Raw text:\")\n",
    "print(data[\"FullDescription\"][2::100000])"
   ]
  },
  {
   "cell_type": "markdown",
   "metadata": {
    "id": "ULzxbIgq1gFY"
   },
   "source": [
    "Убираем все бессмысленные символы, оставляем только слова. \n",
    "\n",
    "(В общем случае удалять символы не хорошо, но в проcтых задачах можно)"
   ]
  },
  {
   "cell_type": "code",
   "execution_count": 9,
   "metadata": {
    "colab": {
     "base_uri": "https://localhost:8080/"
    },
    "id": "1cPHRhrfjPAq",
    "outputId": "92977982-9a94-479a-8c5a-1100d9652063"
   },
   "outputs": [
    {
     "name": "stdout",
     "output_type": "stream",
     "text": [
      "CPU times: user 1min 24s, sys: 953 ms, total: 1min 25s\n",
      "Wall time: 1min 25s\n"
     ]
    }
   ],
   "source": [
    "%%time\n",
    "import nltk\n",
    "tokenizer = nltk.tokenize.WordPunctTokenizer()\n",
    "\n",
    "def preparing(line):\n",
    "    tokens = tokenizer.tokenize(str(line).lower())\n",
    "    tokens = [token for token in tokens if not set(',.\\/[~!@#$%^&*()_+{}\":;\\']+$').intersection(token)]\n",
    "    return ' '.join(tokens)\n",
    "\n",
    "# see task above\n",
    "data['FullDescription'] = data['FullDescription'].apply(preparing)\n",
    "data['Title'] = data['Title'].apply(preparing)"
   ]
  },
  {
   "cell_type": "code",
   "execution_count": 10,
   "metadata": {
    "colab": {
     "base_uri": "https://localhost:8080/"
    },
    "id": "ZRg3mO81jPAy",
    "outputId": "c318c8bd-a606-45d6-974a-cd26fd69e5c2"
   },
   "outputs": [
    {
     "name": "stdout",
     "output_type": "stream",
     "text": [
      "Tokenized:\n",
      "2         mathematical modeller simulation analyst opera...\n",
      "100002    a successful and high achieving specialist sch...\n",
      "200002    web designer html css javascript photoshop ill...\n",
      "Name: FullDescription, dtype: object\n"
     ]
    }
   ],
   "source": [
    "print(\"Tokenized:\")\n",
    "print(data[\"FullDescription\"][2::100000])"
   ]
  },
  {
   "cell_type": "markdown",
   "metadata": {
    "id": "DOGrqDqv4GUa"
   },
   "source": [
    "## Классическая модель TF-IDF"
   ]
  },
  {
   "cell_type": "code",
   "execution_count": 112,
   "metadata": {
    "id": "lzli9mnO7Yzb"
   },
   "outputs": [],
   "source": [
    "from sklearn.feature_extraction.text import CountVectorizer,TfidfVectorizer\n",
    "from sklearn.decomposition import TruncatedSVD"
   ]
  },
  {
   "cell_type": "code",
   "execution_count": 153,
   "metadata": {
    "id": "2xKLac_f4MgQ"
   },
   "outputs": [],
   "source": [
    "\n",
    "vect_descr = TfidfVectorizer(max_features=2000, lowercase=True, analyzer='word',\n",
    "                        stop_words= 'english', dtype=np.float32)\n",
    "vect_title = TfidfVectorizer(max_features=10, lowercase=True, analyzer='word',\n",
    "                        stop_words= 'english', dtype=np.float32)"
   ]
  },
  {
   "cell_type": "code",
   "execution_count": 154,
   "metadata": {
    "colab": {
     "base_uri": "https://localhost:8080/"
    },
    "id": "PLRBfrr76vLN",
    "outputId": "cb5c61c2-227b-4608-a0d5-99894235f713"
   },
   "outputs": [
    {
     "name": "stdout",
     "output_type": "stream",
     "text": [
      "CPU times: user 45.8 s, sys: 529 ms, total: 46.3 s\n",
      "Wall time: 46.4 s\n"
     ]
    }
   ],
   "source": [
    "%%time\n",
    "descr_vect = vect_descr.fit_transform(data['FullDescription'])\n",
    "title_vect = vect_title.fit_transform(data['Title'])"
   ]
  },
  {
   "cell_type": "code",
   "execution_count": 173,
   "metadata": {
    "id": "ZmUkVDptC220"
   },
   "outputs": [],
   "source": [
    "from scipy.sparse import hstack\n",
    "\n",
    "X = hstack((descr_vect, title_vect)).toarray()\n",
    "y = data['Log1pSalary']"
   ]
  },
  {
   "cell_type": "code",
   "execution_count": 174,
   "metadata": {
    "id": "vxza_FySE2jV"
   },
   "outputs": [],
   "source": [
    "from sklearn.model_selection import train_test_split\n",
    "X_train, X_val, y_train, y_val = train_test_split(X, y, train_size=0.8)\n",
    "del X"
   ]
  },
  {
   "cell_type": "code",
   "execution_count": 176,
   "metadata": {
    "id": "_uXU9rVKIS54"
   },
   "outputs": [],
   "source": [
    "%%time\n",
    "from sklearn.linear_model import LinearRegression\n",
    "from sklearn.metrics import accuracy_score\n",
    "\n",
    "model = LinearRegression().fit(X_train, y_train)"
   ]
  },
  {
   "cell_type": "code",
   "execution_count": 177,
   "metadata": {
    "colab": {
     "base_uri": "https://localhost:8080/"
    },
    "id": "ugx9faPwJtbh",
    "outputId": "5b24aec0-1cfe-4381-9f0c-850b1560c7d0"
   },
   "outputs": [
    {
     "data": {
      "text/plain": [
       "0.22180113"
      ]
     },
     "execution_count": 177,
     "metadata": {
      "tags": []
     },
     "output_type": "execute_result"
    }
   ],
   "source": [
    "from sklearn.metrics import mean_absolute_error as MAE\n",
    "MAE(model.predict(X_val), y_val)"
   ]
  },
  {
   "cell_type": "code",
   "execution_count": 181,
   "metadata": {
    "colab": {
     "base_uri": "https://localhost:8080/"
    },
    "id": "FdZrxGinKIeQ",
    "outputId": "6754d812-a164-437d-ed45-bd481c73f195"
   },
   "outputs": [
    {
     "data": {
      "text/plain": [
       "(array([9.498852], dtype=float32), array([9.105091], dtype=float32))"
      ]
     },
     "execution_count": 181,
     "metadata": {
      "tags": []
     },
     "output_type": "execute_result"
    }
   ],
   "source": [
    "model.predict(X_val[1:2]), y_val[1:2].values"
   ]
  },
  {
   "cell_type": "code",
   "execution_count": 182,
   "metadata": {
    "id": "ZczFxh-ZK9vt"
   },
   "outputs": [],
   "source": [
    "del X_train, X_val, y_val, y_train"
   ]
  },
  {
   "cell_type": "markdown",
   "metadata": {
    "id": "HkH67fIH4NLK"
   },
   "source": [
    "## Классика Word2Vec"
   ]
  },
  {
   "cell_type": "code",
   "execution_count": 186,
   "metadata": {
    "colab": {
     "base_uri": "https://localhost:8080/"
    },
    "id": "kKT2uadSMDve",
    "outputId": "36851e8d-0acf-4e5b-b86c-8fc57c49e37f"
   },
   "outputs": [
    {
     "name": "stdout",
     "output_type": "stream",
     "text": [
      "[==================================================] 100.0% 387.1/387.1MB downloaded\n"
     ]
    }
   ],
   "source": [
    "import gensim.downloader as api\n",
    "model_wiki = api.load(\"glove-twitter-100\") # предобученная модель на твитах"
   ]
  },
  {
   "cell_type": "code",
   "execution_count": 215,
   "metadata": {
    "colab": {
     "base_uri": "https://localhost:8080/"
    },
    "id": "1ZDP1T1sWSuT",
    "outputId": "8401fab6-516e-44ec-cd3c-0c9c7b610523"
   },
   "outputs": [
    {
     "data": {
      "text/plain": [
       "0                               engineering systems analyst\n",
       "1                                   stress engineer glasgow\n",
       "2                          modelling and simulation analyst\n",
       "3         engineering systems analyst mathematical modeller\n",
       "4               pioneer , miser engineering systems analyst\n",
       "                                ...                        \n",
       "244763                                   teacher of science\n",
       "244764                  teacher of business studies and ict\n",
       "244765                                      english teacher\n",
       "244766                                      supply teachers\n",
       "244767                                           accountant\n",
       "Name: Title, Length: 244768, dtype: object"
      ]
     },
     "execution_count": 215,
     "metadata": {
      "tags": []
     },
     "output_type": "execute_result"
    }
   ],
   "source": [
    "data['Title']"
   ]
  },
  {
   "cell_type": "code",
   "execution_count": null,
   "metadata": {
    "id": "aKsCJ_q8Mlv1"
   },
   "outputs": [],
   "source": [
    "%%time\n",
    "def get_avg_vec(line):\n",
    "    lst = line.split()\n",
    "    vecs = []\n",
    "    for word in line.split():\n",
    "        try:\n",
    "            vecs.append(model_wiki.get_vector(word))\n",
    "        except KeyError:\n",
    "            continue\n",
    "    return np.array(vecs).mean(axis=0) #берем среднее (можно сумму, можно конкатенацию)\n",
    "\n",
    "X1 = np.array([get_avg_vec(line) for line in data['FullDescription']])"
   ]
  },
  {
   "cell_type": "code",
   "execution_count": 216,
   "metadata": {
    "id": "suV-1kLaTxPf"
   },
   "outputs": [],
   "source": [
    "y = data['Log1pSalary']"
   ]
  },
  {
   "cell_type": "code",
   "execution_count": 218,
   "metadata": {
    "id": "dsYmAe6FUtBQ"
   },
   "outputs": [],
   "source": [
    "X_train, X_val, y_train, y_val = train_test_split(X1, y, train_size=0.8)"
   ]
  },
  {
   "cell_type": "code",
   "execution_count": 219,
   "metadata": {
    "colab": {
     "base_uri": "https://localhost:8080/"
    },
    "id": "slTZrWLJU4Xg",
    "outputId": "0e3fe06c-539e-4649-ba81-888d330aaaba"
   },
   "outputs": [
    {
     "name": "stdout",
     "output_type": "stream",
     "text": [
      "CPU times: user 2.33 s, sys: 228 ms, total: 2.55 s\n",
      "Wall time: 1.7 s\n"
     ]
    }
   ],
   "source": [
    "%%time\n",
    "model = LinearRegression().fit(X_train, y_train)"
   ]
  },
  {
   "cell_type": "code",
   "execution_count": 221,
   "metadata": {
    "id": "XDleubHgXNuG"
   },
   "outputs": [],
   "source": [
    "from sklearn.metrics import r2_score"
   ]
  },
  {
   "cell_type": "code",
   "execution_count": 222,
   "metadata": {
    "colab": {
     "base_uri": "https://localhost:8080/"
    },
    "id": "-iazw9EfVFJr",
    "outputId": "c1673de3-13bd-4344-adfb-d182d4062d75"
   },
   "outputs": [
    {
     "data": {
      "text/plain": [
       "-0.512450428906726"
      ]
     },
     "execution_count": 222,
     "metadata": {
      "tags": []
     },
     "output_type": "execute_result"
    }
   ],
   "source": [
    "r2_score(model.predict(X_val), y_val)"
   ]
  },
  {
   "cell_type": "markdown",
   "metadata": {
    "id": "0A3x4WtsL4R4"
   },
   "source": [
    "## Нейронные сети"
   ]
  },
  {
   "cell_type": "markdown",
   "metadata": {
    "id": "DSdbnnmmjPA3"
   },
   "source": [
    "### Создание словаря токенов"
   ]
  },
  {
   "cell_type": "code",
   "execution_count": 11,
   "metadata": {
    "colab": {
     "base_uri": "https://localhost:8080/"
    },
    "id": "9T-DdZz-jPA5",
    "outputId": "8125f3cc-98c3-4dcc-f764-567545a607a2"
   },
   "outputs": [
    {
     "name": "stdout",
     "output_type": "stream",
     "text": [
      "CPU times: user 12.5 s, sys: 49.7 ms, total: 12.5 s\n",
      "Wall time: 12.5 s\n"
     ]
    }
   ],
   "source": [
    "%%time\n",
    "from collections import Counter\n",
    "\n",
    "token_counts = Counter(token for col in text_columns # берем обе текстовые колонки\n",
    "                             for item in data[col]\n",
    "                             for token in item.split())"
   ]
  },
  {
   "cell_type": "code",
   "execution_count": 12,
   "metadata": {
    "colab": {
     "base_uri": "https://localhost:8080/"
    },
    "id": "Wrrz-aSyjPA-",
    "outputId": "6911ad2f-5fd7-4406-a7d4-ccf7c9dc0aed"
   },
   "outputs": [
    {
     "name": "stdout",
     "output_type": "stream",
     "text": [
      "Total unique tokens : 161296\n",
      "('and', 2657388)\n",
      "('the', 2080994)\n",
      "('to', 2019884)\n",
      "('a', 1521925)\n",
      "('of', 1426213)\n",
      "...\n",
      "('grzedamcarthurnhs', 1)\n",
      "('gpled', 1)\n",
      "('stephanietraveltraderecruitmnt', 1)\n",
      "('ruabon', 1)\n",
      "('lowehays', 1)\n"
     ]
    }
   ],
   "source": [
    "print(\"Total unique tokens :\", len(token_counts))\n",
    "print('\\n'.join(map(str, token_counts.most_common(n=5))))\n",
    "print('...')\n",
    "print('\\n'.join(map(str, token_counts.most_common()[-5:])))"
   ]
  },
  {
   "cell_type": "code",
   "execution_count": 13,
   "metadata": {
    "colab": {
     "base_uri": "https://localhost:8080/",
     "height": 279
    },
    "id": "d0baFhfNjPBE",
    "outputId": "f3af0830-d8a4-4cea-a41b-2204c4cf6af8"
   },
   "outputs": [
    {
     "data": {
      "image/png": "[encoded data removed]",
      "text/plain": [
       "<Figure size 432x288 with 1 Axes>"
      ]
     },
     "metadata": {
      "needs_background": "light",
      "tags": []
     },
     "output_type": "display_data"
    }
   ],
   "source": [
    "# Let's see how many words are there for each count\n",
    "plt.hist(list(token_counts.values()), range=[0, 10**4], bins=50, log=True)\n",
    "plt.xlabel(\"Word counts\");\n",
    "plt.grid()"
   ]
  },
  {
   "cell_type": "markdown",
   "metadata": {
    "id": "cpU22q5-jPBJ"
   },
   "source": [
    "Удалим слова, которые встречаются меньше 10 раз"
   ]
  },
  {
   "cell_type": "code",
   "execution_count": 14,
   "metadata": {
    "id": "PzfHYHr7jPBK"
   },
   "outputs": [],
   "source": [
    "min_count = 10\n",
    "\n",
    "tokens = [token for token, count in token_counts.items() \\\n",
    "          if count >= min_count ]"
   ]
  },
  {
   "cell_type": "code",
   "execution_count": 15,
   "metadata": {
    "colab": {
     "base_uri": "https://localhost:8080/"
    },
    "id": "43S1WfpMjPBQ",
    "outputId": "cdd242ac-e966-4c97-a35d-41929be0948c"
   },
   "outputs": [
    {
     "data": {
      "text/plain": [
       "33369"
      ]
     },
     "execution_count": 15,
     "metadata": {
      "tags": []
     },
     "output_type": "execute_result"
    }
   ],
   "source": [
    "len(tokens)"
   ]
  },
  {
   "cell_type": "code",
   "execution_count": 16,
   "metadata": {
    "colab": {
     "base_uri": "https://localhost:8080/",
     "height": 35
    },
    "id": "m-j-S3dEoW3O",
    "outputId": "d61cd22b-4e1c-4059-fa48-29c0d3900271"
   },
   "outputs": [
    {
     "data": {
      "application/vnd.google.colaboratory.intrinsic+json": {
       "type": "string"
      },
      "text/plain": [
       "'systems'"
      ]
     },
     "execution_count": 16,
     "metadata": {
      "tags": []
     },
     "output_type": "execute_result"
    }
   ],
   "source": [
    "tokens[1]"
   ]
  },
  {
   "cell_type": "markdown",
   "metadata": {
    "id": "5P_v9kYWehk-"
   },
   "source": [
    "Добавим слова отвечающие за паддинг и за UNKnown word"
   ]
  },
  {
   "cell_type": "code",
   "execution_count": 17,
   "metadata": {
    "colab": {
     "base_uri": "https://localhost:8080/"
    },
    "id": "TsbLDC1VjPBU",
    "outputId": "46ce75de-8071-48c8-d7f7-12318560e4c3"
   },
   "outputs": [
    {
     "name": "stdout",
     "output_type": "stream",
     "text": [
      "Vocabulary size: 33371\n"
     ]
    }
   ],
   "source": [
    "# Add a special tokens for unknown and empty words \n",
    "PAD, UNK = \"PAD\", \"UNK\"\n",
    "tokens = [PAD, UNK] + sorted(tokens)\n",
    "print(\"Vocabulary size:\", len(tokens))"
   ]
  },
  {
   "cell_type": "markdown",
   "metadata": {
    "id": "toHEu5Q7jPBZ"
   },
   "source": [
    "Строим нашу эмбеддинг таблицу: слово -> токен "
   ]
  },
  {
   "cell_type": "code",
   "execution_count": 18,
   "metadata": {
    "id": "Sd9zLe4ojPBb"
   },
   "outputs": [],
   "source": [
    "token_to_id = dict((tokens[i], i) for i in range(len(tokens)))"
   ]
  },
  {
   "cell_type": "code",
   "execution_count": 19,
   "metadata": {
    "colab": {
     "base_uri": "https://localhost:8080/"
    },
    "id": "d8EzNYwijPBg",
    "outputId": "9979c81e-e3e7-4ae9-dff8-c59cdd2bb30e"
   },
   "outputs": [
    {
     "data": {
      "text/plain": [
       "(33371, 33371)"
      ]
     },
     "execution_count": 19,
     "metadata": {
      "tags": []
     },
     "output_type": "execute_result"
    }
   ],
   "source": [
    "tok = 'stress'\n",
    "assert tokens[token_to_id[tok]] == tok\n",
    "\n",
    "len(token_to_id), len(tokens)\n"
   ]
  },
  {
   "cell_type": "markdown",
   "metadata": {
    "id": "P2r6myI6jPBq"
   },
   "source": [
    "### Кодирование текста, создание Даталоадер\n",
    "Преобразованние текста в лист токенов по нашему словарю"
   ]
  },
  {
   "cell_type": "code",
   "execution_count": 20,
   "metadata": {
    "id": "t6QtaPju3RHf"
   },
   "outputs": [],
   "source": [
    "max_len_title = max(len(x.split()) for x in data['Title'])\n",
    "max_len_descr = max(len(x.split()) for x in data['FullDescription'])"
   ]
  },
  {
   "cell_type": "code",
   "execution_count": 21,
   "metadata": {
    "colab": {
     "base_uri": "https://localhost:8080/"
    },
    "id": "rstzbB8usmKu",
    "outputId": "17b2576e-8866-4d3e-dfea-e216a80eea54"
   },
   "outputs": [
    {
     "data": {
      "text/plain": [
       "array([23741,  2605, 13132, ...,     0,     0,     0])"
      ]
     },
     "execution_count": 21,
     "metadata": {
      "tags": []
     },
     "output_type": "execute_result"
    }
   ],
   "source": [
    "def padd(a, full_len):\n",
    "    return np.hstack([a, np.zeros(full_len - len(a),dtype=np.int64)])\n",
    "\n",
    "def get_id(token):\n",
    "    try:\n",
    "        id = token_to_id[token]\n",
    "    except KeyError:\n",
    "        id = 1\n",
    "    return id\n",
    "\n",
    "text_pipeline = lambda line: padd(np.array([get_id(token) for token in line.split()]), max_len_descr)\n",
    "text_pipeline('programmer at google')"
   ]
  },
  {
   "cell_type": "markdown",
   "metadata": {
    "id": "xNADNpsSwOsx"
   },
   "source": [
    "Создание батча"
   ]
  },
  {
   "cell_type": "markdown",
   "metadata": {
    "id": "WQIWCOJQwSMv"
   },
   "source": [
    "Создание даталоадер"
   ]
  },
  {
   "cell_type": "code",
   "execution_count": 45,
   "metadata": {
    "id": "_2xPh2WDzyxQ"
   },
   "outputs": [],
   "source": [
    "class PandasDataset(Dataset):\n",
    "    def __init__(self, dataframe):\n",
    "        self.df = dataframe\n",
    "\n",
    "    def __len__(self):\n",
    "        return len(self.df)\n",
    "\n",
    "    def __getitem__(self, index):\n",
    "        return text_pipeline(self.df.iloc[index]['FullDescription']), \n",
    "               self.df.iloc[index]['Log1pSalary']"
   ]
  },
  {
   "cell_type": "code",
   "execution_count": 54,
   "metadata": {
    "id": "OCw4ReDlvpj4"
   },
   "outputs": [],
   "source": [
    "from sklearn.model_selection import train_test_split\n",
    "\n",
    "train, test = train_test_split(data, test_size=0.2)\n",
    "\n",
    "dataloaders = {'train' : DataLoader(PandasDataset(train), \n",
    "                              batch_size=32, \n",
    "                              shuffle=False),\n",
    "              'val' : DataLoader(PandasDataset(test), \n",
    "                              batch_size=32, \n",
    "                              shuffle=False)}"
   ]
  },
  {
   "cell_type": "code",
   "execution_count": 48,
   "metadata": {
    "colab": {
     "base_uri": "https://localhost:8080/"
    },
    "id": "OkGYNGrjCEzA",
    "outputId": "d8775ebf-1ed6-492a-986e-5c2c6742bd14"
   },
   "outputs": [
    {
     "name": "stdout",
     "output_type": "stream",
     "text": [
      "tensor([10.5321, 10.6573, 11.2253, 10.8743, 10.2175, 10.5051, 10.4977, 10.4043,\n",
      "        11.3794, 10.5967,  9.5929, 10.9778, 10.5051, 10.5967, 10.1267,  9.8522,\n",
      "        10.3890, 11.1844, 10.0950, 10.4631,  9.9759,  9.9115, 10.5024,  9.9035,\n",
      "         9.9035, 10.4913, 10.5967, 10.6647,  9.9035,  9.5061, 10.4631, 10.9151])\n"
     ]
    }
   ],
   "source": [
    "for x, y in dataloaders['train']:\n",
    "    print(y)\n",
    "    break"
   ]
  },
  {
   "cell_type": "markdown",
   "metadata": {
    "id": "5fiIf0YSuESN"
   },
   "source": [
    "### Torch Embeddings"
   ]
  },
  {
   "cell_type": "markdown",
   "metadata": {
    "id": "qcMvxC6hn891"
   },
   "source": [
    "Определим сеть как класс"
   ]
  },
  {
   "cell_type": "code",
   "execution_count": 26,
   "metadata": {
    "id": "gBbgEqR6nBrI"
   },
   "outputs": [],
   "source": [
    "from torch import nn\n",
    "\n",
    "class TextRegModel(nn.Module): #backward автоматом подтянется из nn.Module\n",
    "\n",
    "    def __init__(self, vocab_size, embed_dim):\n",
    "        super(TextRegModel, self).__init__()\n",
    "        self.embedding = nn.Embedding(num_embeddings= vocab_size, \n",
    "                                      embedding_dim = embed_dim)\n",
    "        self.fc = nn.Linear(in_features=embed_dim, \n",
    "                            out_features=1) # линейный слой в одно число\n",
    "        self.init_weights()\n",
    "\n",
    "    def init_weights(self):\n",
    "        initrange = 0.5\n",
    "        self.embedding.weight.data.uniform_(-initrange, initrange)\n",
    "        self.fc.weight.data.uniform_(-initrange, initrange)\n",
    "        self.fc.bias.data.zero_()\n",
    "\n",
    "    def forward(self, text):  #text: batch_size x input_len\n",
    "        embedded = self.embedding(text).mean(axis=1) #усреднение векторов еще можно sum, max. \n",
    "        #embedding: batch_size x input_len x vector_len\n",
    "        return self.fc(embedded)"
   ]
  },
  {
   "cell_type": "markdown",
   "metadata": {
    "id": "fZbwhfYtokVY"
   },
   "source": [
    "Определим конфиг обучения"
   ]
  },
  {
   "cell_type": "markdown",
   "metadata": {
    "id": "NmhZAsQqon20"
   },
   "source": [
    "### Обучение!"
   ]
  },
  {
   "cell_type": "code",
   "execution_count": 63,
   "metadata": {
    "id": "fib3wBVpoprG"
   },
   "outputs": [],
   "source": [
    "def train_epoch(model, dataloader, criterion, metric, device, optimizer):\n",
    "    total_loss = 0\n",
    "    total_acc  = 0\n",
    "    n = len(dataloader)    \n",
    "\n",
    "    model.train(True)\n",
    "    for i_batch, (X_batch, y_batch) in enumerate(dataloader):\n",
    "        \n",
    "        X_batch = X_batch.to(device)\n",
    "        y_batch = y_batch.to(device)\n",
    "        \n",
    "        out = model(X_batch)\n",
    "\n",
    "        loss = criterion(out, y_batch)\n",
    "        loss.backward()\n",
    "        total_loss += loss.item()\n",
    "\n",
    "        optimizer.step()\n",
    "        optimizer.zero_grad()\n",
    "\n",
    "\n",
    "    av_loss = total_loss / n\n",
    "    av_acc  = total_acc  / n\n",
    "\n",
    "    return av_loss, av_acc"
   ]
  },
  {
   "cell_type": "code",
   "execution_count": 61,
   "metadata": {
    "id": "KWxaCbYw-VId"
   },
   "outputs": [],
   "source": [
    "@torch.no_grad()\n",
    "def eval_model(model, dataloader, criterion, metric, device):\n",
    "    total_acc = 0\n",
    "    n = len(dataloader)  \n",
    "    \n",
    "    model.eval()\n",
    "    for X_batch, y_batch in dataloader:\n",
    "        X_batch = X_batch.to(device)\n",
    "        y_batch = y_batch.to(device)\n",
    " \n",
    "        out = model(X_batch)\n",
    "        total_acc += criterion(out, y_batch).item()\n",
    " \n",
    "    av_acc = total_acc / n\n",
    " \n",
    "    return av_acc"
   ]
  },
  {
   "cell_type": "code",
   "execution_count": 29,
   "metadata": {
    "id": "TR8mrfv0-XDw"
   },
   "outputs": [],
   "source": [
    "@torch.no_grad()\n",
    "def get_result(model, dataloader, device):\n",
    "    n = len(dataloader)  \n",
    "    answer = torch.empty(0)\n",
    "\n",
    "    model.eval()\n",
    "    for X_batch, _ in dataloader:\n",
    "        X_batch = X_batch.to(device)\n",
    " \n",
    "        out = model(X_batch)\n",
    "\n",
    "        answer = torch.cat([answer, out.argmax(-1).to('cpu')])\n",
    "\n",
    "    return answer"
   ]
  },
  {
   "cell_type": "code",
   "execution_count": 31,
   "metadata": {
    "id": "9LZsIXqL-doH"
   },
   "outputs": [],
   "source": [
    "def draw_loss(log):\n",
    "    clear_output(True)\n",
    "    np_log = np.array(log)\n",
    "    plt.title(\"MSE\")\n",
    "    plt.plot(np_log[:, 0], label='train')\n",
    "    plt.plot(np_log[:, 1], label='val')\n",
    "    plt.grid()\n",
    "    plt.legend()\n",
    "    plt.show()\n"
   ]
  },
  {
   "cell_type": "code",
   "execution_count": 68,
   "metadata": {
    "id": "QQptu8MB-fLB"
   },
   "outputs": [],
   "source": [
    "def train_model(model, dataloaders, optimizer,\n",
    "                criterion=nn.MSELoss(), \n",
    "                metric=nn.MSELoss(), \n",
    "                device=torch.device(\"cuda:0\" if torch.cuda.is_available() else 'cpu'), \n",
    "                epochs=50):\n",
    "    \n",
    "    model = model.to(device)\n",
    "    log_acc = []\n",
    "    for epoch in range(epochs):\n",
    "        start_time = time.time()\n",
    "        \n",
    "        loss, _ = train_epoch(model, dataloaders['train'], criterion, metric, device, optimizer)   \n",
    "        \n",
    "        val_loss  =         eval_model(model, dataloaders['val'],   criterion, metric, device)\n",
    "\n",
    "        if epoch:\n",
    "            log_acc.append((loss, val_loss))\n",
    "        \n",
    "            draw_loss(log_acc)\n",
    " \n",
    "        print(\"Epoch [{}/{}] Time: {:.2f}s; TrainLoss: {:.4f}; ValLoss: {:.4f}\".format(\n",
    "              epoch + 1, epochs, time.time() - start_time, loss, val_loss))    \n",
    "    \n",
    "    return model, val_loss"
   ]
  },
  {
   "cell_type": "code",
   "execution_count": null,
   "metadata": {
    "colab": {
     "base_uri": "https://localhost:8080/",
     "height": 388
    },
    "id": "QdEX10_s_CKN",
    "outputId": "60b30698-5df5-4936-f010-310bdf521fa7"
   },
   "outputs": [
    {
     "data": {
      "image/png": "[encoded data removed]",
      "text/plain": [
       "<Figure size 432x288 with 1 Axes>"
      ]
     },
     "metadata": {
      "needs_background": "light",
      "tags": []
     },
     "output_type": "display_data"
    },
    {
     "name": "stderr",
     "output_type": "stream",
     "text": [
      "/usr/local/lib/python3.7/dist-packages/torch/nn/modules/loss.py:528: UserWarning: Using a target size (torch.Size([32])) that is different to the input size (torch.Size([32, 1])). This will likely lead to incorrect results due to broadcasting. Please ensure they have the same size.\n",
      "  return F.mse_loss(input, target, reduction=self.reduction)\n"
     ]
    },
    {
     "name": "stdout",
     "output_type": "stream",
     "text": [
      "Epoch [10/50] Time: 121.95s; TrainLoss: 0.2427; ValLoss: 0.2421\n"
     ]
    },
    {
     "name": "stderr",
     "output_type": "stream",
     "text": [
      "/usr/local/lib/python3.7/dist-packages/torch/nn/modules/loss.py:528: UserWarning: Using a target size (torch.Size([6])) that is different to the input size (torch.Size([6, 1])). This will likely lead to incorrect results due to broadcasting. Please ensure they have the same size.\n",
      "  return F.mse_loss(input, target, reduction=self.reduction)\n"
     ]
    }
   ],
   "source": [
    "vocab_size = len(token_to_id)\n",
    "embed_dim = 64\n",
    "model = TextRegModel(vocab_size, embed_dim)\n",
    "\n",
    "for param in model.parameters():\n",
    "    param.requires_grad = True\n",
    "\n",
    "optimizer = torch.optim.Adam(model.parameters(), lr=0.001)\n",
    "\n",
    "trained_model, val_accuracy, test_accuracy = train_model(model=model, \n",
    "                                                         dataloaders=dataloaders, \n",
    "                                                         optimizer=optimizer, \n",
    "                                                         epochs=50)"
   ]
  },
  {
   "cell_type": "markdown",
   "metadata": {
    "id": "pyjAg2ge_FfF"
   },
   "source": [
    "------"
   ]
  }
 ],
 "metadata": {
  "accelerator": "GPU",
  "colab": {
   "name": "JobPrediction.ipynb",
   "provenance": []
  },
  "kernelspec": {
   "display_name": "Python 3",
   "language": "python",
   "name": "python3"
  },
  "language_info": {
   "codemirror_mode": {
    "name": "ipython",
    "version": 3
   },
   "file_extension": ".py",
   "mimetype": "text/x-python",
   "name": "python",
   "nbconvert_exporter": "python",
   "pygments_lexer": "ipython3",
   "version": "3.7.6"
  }
 },
 "nbformat": 4,
 "nbformat_minor": 4
}
