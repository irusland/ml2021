{
 "cells": [
  {
   "cell_type": "code",
   "execution_count": 3,
   "metadata": {},
   "outputs": [],
   "source": [
    "import numpy as np\n",
    "import pandas as pd\n",
    "from numpy.testing import assert_array_equal, assert_array_almost_equal, assert_equal, assert_almost_equal\n",
    "from pandas.testing import assert_frame_equal\n",
    "data = pd.read_csv('data/titanic_train.csv', index_col='PassengerId')"
   ]
  },
  {
   "cell_type": "markdown",
   "metadata": {},
   "source": [
    "# 1. Ближайший элемент"
   ]
  },
  {
   "cell_type": "markdown",
   "metadata": {},
   "source": [
    "Реализуйте функцию, принимающую на вход непустой тензор (может быть многомерным) $X$ и некоторое число $a$ и возвращающую ближайший к числу элемент тензора. Если ближайших несколько - выведите минимальный из ближайших. (Вернуть нужно само число, а не индекс числа!)\n",
    "\n",
    "### Sample\n",
    "#### Input:\n",
    "```python\n",
    "X = np.array([[ 1,  2, 13],\n",
    "              [15,  6,  8],\n",
    "              [ 7, 18,  9]])\n",
    "a = 7.2\n",
    "```\n",
    "#### Output:\n",
    "```python\n",
    "7\n",
    "```"
   ]
  },
  {
   "cell_type": "markdown",
   "metadata": {},
   "source": [
    "## TASK"
   ]
  },
  {
   "cell_type": "code",
   "execution_count": 9,
   "metadata": {},
   "outputs": [],
   "source": [
    "import numpy as np\n",
    "\n",
    "def nearest_value(X: np.ndarray, a: float) -> np.float:\n",
    "    ### ╰( ͡° ͜ʖ ͡° )つ──☆*:・ﾟ\n",
    "    pass"
   ]
  },
  {
   "cell_type": "code",
   "execution_count": null,
   "metadata": {},
   "outputs": [],
   "source": [
    "######################################################\n",
    "assert_equal(\n",
    "    nearest_value(np.array([ 1,  2, 13]), 10),\n",
    "    13)\n",
    "######################################################\n",
    "assert_equal(\n",
    "    nearest_value(np.array([ -1,  0]), -0.5),\n",
    "    -1)\n",
    "######################################################\n",
    "assert_equal(\n",
    "    nearest_value(np.array([[[ 1], [2],[3]],[[4],[5],[6]]]), 4.5),\n",
    "    4)\n",
    "######################################################\n",
    "assert_equal(\n",
    "    nearest_value(np.array([[ 1,  2, 13],\n",
    "                            [15,  6,  8],\n",
    "                            [ 7, 18,  9]]), 7.2),\n",
    "    7)\n",
    "######################################################"
   ]
  },
  {
   "cell_type": "markdown",
   "metadata": {},
   "source": [
    "# 2. Сортировка чисел"
   ]
  },
  {
   "cell_type": "markdown",
   "metadata": {},
   "source": [
    "Дан одномерный массив целых чисел. Необходимо отсортировать в нем только числа, которые делятся на $2$. При этом начальный массив изменять нельзя.\n",
    "\n",
    "### Sample\n",
    "#### Input:\n",
    "```python\n",
    "A = np.array([43, 66, 34, 55, 78, 105, 2])\n",
    "```\n",
    "#### Output:\n",
    "```python\n",
    "array([ 43,   2,  34,  55,  66, 105,  78])\n",
    "```\n"
   ]
  },
  {
   "cell_type": "markdown",
   "metadata": {},
   "source": [
    "## TASK"
   ]
  },
  {
   "cell_type": "code",
   "execution_count": 16,
   "metadata": {},
   "outputs": [],
   "source": [
    "import numpy as np\n",
    "\n",
    "def sort_evens(A: np.ndarray) -> np.ndarray:\n",
    "    ### ╰( ͡° ͜ʖ ͡° )つ──☆*:・ﾟ\n",
    "    pass"
   ]
  },
  {
   "cell_type": "code",
   "execution_count": 14,
   "metadata": {},
   "outputs": [],
   "source": [
    "######################################################\n",
    "assert_array_equal(sort_evens(np.array([])), np.array([]))\n",
    "######################################################\n",
    "assert_array_equal(sort_evens(np.array([2, 0])), np.array([0, 2]))\n",
    "######################################################\n",
    "assert_array_equal(sort_evens(np.array([9, 3, 1, 5, 7])), np.array([9, 3, 1, 5, 7]))\n",
    "######################################################"
   ]
  },
  {
   "cell_type": "markdown",
   "metadata": {},
   "source": [
    "# Страшные маски"
   ]
  },
  {
   "cell_type": "markdown",
   "metadata": {},
   "source": [
    "Даны трехмерный тензор размерности $X(n, k, k)$, состоящий из $0$ или $1$, или $n$ картинок $k \\times k$. Нужно применить к нему указанную маску размерности $(k, k)$: В случае, если биты в маске и картинке совпадают, то результирующий бит должен быть равен $0$, иначе $1$.\n",
    "\n",
    "### Sample\n",
    "#### Input:\n",
    "```python\n",
    "X = np.array([\n",
    "              [[ 1, 0, 1],\n",
    "               [ 1, 1, 1],\n",
    "               [ 0, 0, 1]],\n",
    "             \n",
    "              [[ 1, 1, 1],\n",
    "               [ 1, 1, 1],\n",
    "               [ 1, 1, 1]]\n",
    "            ])\n",
    "mask = np.array([[1, 1, 0],\n",
    "                 [1, 1, 0],\n",
    "                 [1, 1, 0]])\n",
    "```\n",
    "#### Output:\n",
    "```python\n",
    "array([[[0, 1, 1],\n",
    "        [0, 0, 1],\n",
    "        [1, 1, 1]],\n",
    "\n",
    "       [[0, 0, 1],\n",
    "        [0, 0, 1],\n",
    "        [0, 0, 1]]])\n",
    "```\n"
   ]
  },
  {
   "cell_type": "markdown",
   "metadata": {},
   "source": [
    "## TASK"
   ]
  },
  {
   "cell_type": "code",
   "execution_count": 13,
   "metadata": {},
   "outputs": [],
   "source": [
    "import numpy as np\n",
    "\n",
    "def tensor_mask(X: np.ndarray, mask: np.ndarray) -> np.ndarray:\n",
    "    ### ╰( ͡° ͜ʖ ͡° )つ──☆*:・ﾟ\n",
    "    pass"
   ]
  },
  {
   "cell_type": "markdown",
   "metadata": {},
   "source": [
    "## Tests"
   ]
  },
  {
   "cell_type": "code",
   "execution_count": 13,
   "metadata": {},
   "outputs": [],
   "source": [
    "######################################################\n",
    "X = np.zeros(9, dtype=int).reshape((1,3,3))\n",
    "mask = np.zeros(9, dtype=int).reshape((3,3))\n",
    "assert_array_equal(tensor_mask(X, mask), np.zeros(9, dtype=int).reshape((1,3,3)))\n",
    "######################################################\n",
    "X = np.ones(9, dtype=int).reshape((1,3,3))\n",
    "mask = np.ones(9, dtype=int).reshape((3,3))\n",
    "assert_array_equal(tensor_mask(X, mask), np.zeros(9, dtype=int).reshape((1,3,3)))\n",
    "######################################################\n",
    "X = np.ones(9, dtype=int).reshape((1,3,3))\n",
    "mask = np.zeros(9, dtype=int).reshape((3,3))\n",
    "assert_array_equal(tensor_mask(X, mask), np.ones(9, dtype=int).reshape((1,3,3)))\n",
    "######################################################"
   ]
  },
  {
   "cell_type": "markdown",
   "metadata": {},
   "source": [
    "# 4. Сумма цифр в массиве"
   ]
  },
  {
   "cell_type": "markdown",
   "metadata": {},
   "source": [
    "На вход подается `np.ndarray` c натуральными числами. Надо получить массив сумм цифр в этих числах.\n",
    "\n",
    "### Sample\n",
    "#### Input:\n",
    "```python\n",
    "a = np.array([1241, 354, 121])\n",
    "```\n",
    "#### Output:\n",
    "```python\n",
    "array([ 8, 12, 4])\n",
    "```\n"
   ]
  },
  {
   "cell_type": "markdown",
   "metadata": {},
   "source": [
    "## TASK"
   ]
  },
  {
   "cell_type": "code",
   "execution_count": 19,
   "metadata": {},
   "outputs": [],
   "source": [
    "import numpy as np\n",
    "\n",
    "def num_sum(a: np.ndarray) -> np.ndarray:\n",
    "    ### ╰( ͡° ͜ʖ ͡° )つ──☆*:・ﾟ\n",
    "    pass"
   ]
  },
  {
   "cell_type": "markdown",
   "metadata": {},
   "source": [
    "## Tests"
   ]
  },
  {
   "cell_type": "code",
   "execution_count": 12,
   "metadata": {},
   "outputs": [],
   "source": [
    "######################################################\n",
    "assert_array_equal(num_sum(np.array([82])), np.array([10]))\n",
    "######################################################\n",
    "assert_array_equal(num_sum(np.array([1241, 354, 121])), np.array([ 8, 12, 4]))\n",
    "######################################################\n",
    "assert_array_equal(num_sum(np.array([1, 22, 333, 4444, 55555])), np.array([1, 4, 9, 16, 25]))\n",
    "######################################################                 "
   ]
  },
  {
   "cell_type": "markdown",
   "metadata": {},
   "source": [
    "# 5. Чистка NaN-ов"
   ]
  },
  {
   "cell_type": "markdown",
   "metadata": {},
   "source": [
    "Одна из важных проблем данных - пустые значения. В *numpy* и *pandas* они обычно объявляются специальным типом ```np.nan```. В реальных задачах нам часто нужно что-то сделать с этими значениями. Например заменить на 0, среднее или медиану.\n",
    "\n",
    "Реализуйте функцию, которая во входной вещественной матрице ```X``` находит все значения ```nan``` и заменяет их на **медиану** остальных элементов столбца. Если все элементы столбца матрицы ```nan```, то заполняем столбец нулями.\n",
    "\n",
    "### Sample\n",
    "#### Input:\n",
    "```python\n",
    "X = np.array([[np.nan,      4,  np.nan],\n",
    "              [np.nan, np.nan,       8],\n",
    "              [np.nan,      5,  np.nan]])\n",
    "```\n",
    "#### Output:\n",
    "```python\n",
    "array([[0. , 4. , 8. ],\n",
    "       [0. , 4.5, 8. ],\n",
    "       [0. , 5. , 8. ]])\n",
    "```\n"
   ]
  },
  {
   "cell_type": "markdown",
   "metadata": {},
   "source": [
    "## TASK"
   ]
  },
  {
   "cell_type": "code",
   "execution_count": 3,
   "metadata": {},
   "outputs": [],
   "source": [
    "import numpy as np\n",
    "\n",
    "def replace_nans(X: np.ndarray) -> np.ndarray:\n",
    "    ### ╰( ͡° ͜ʖ ͡° )つ──☆*:・ﾟ\n",
    "    pass"
   ]
  },
  {
   "cell_type": "markdown",
   "metadata": {},
   "source": [
    "## Tests"
   ]
  },
  {
   "cell_type": "code",
   "execution_count": 19,
   "metadata": {},
   "outputs": [],
   "source": [
    "######################################################\n",
    "assert_array_equal(replace_nans(\n",
    "    np.array([[np.nan], [np.nan],  [np.nan]])),\n",
    "    np.array([[0. ],[ 0. ],[ 0. ]])\n",
    ")\n",
    "######################################################\n",
    "assert_array_equal(replace_nans(\n",
    "    np.array([[0, 42,  42]])),\n",
    "    np.array([[0, 42 , 42]])\n",
    ")\n",
    "######################################################\n",
    "assert_array_equal(replace_nans(\n",
    "    np.array([[np.nan], [1], [np.nan]])),\n",
    "    np.array([[1.] ,[ 1.] ,[ 1. ]])\n",
    ")\n",
    "######################################################"
   ]
  },
  {
   "cell_type": "markdown",
   "metadata": {},
   "source": [
    "# 6. Бухгалтерия зоопарка"
   ]
  },
  {
   "cell_type": "markdown",
   "metadata": {},
   "source": [
    "Вам на вход подается словарь, где ключ - это тип животного, а значение - словарь с признаками этого животного, где ключ - тип признака, а значение - значение признака (Типичный json проще говоря). Наименования признаков животного - всегда строки. Значения признаков - любой из типов pandas.\n",
    "\n",
    "Вам следует создать табличку, где по строчкам будут идти животные, а по колонкам - их признаки, которая удовлетворяет следующим условиям:\n",
    "\n",
    "* Тип животного нужно выделить в отдельную колонку `Type`\n",
    "* Строки отсортированы по типу животного в алфавитном порядке\n",
    "* Колонки отсортированы в алфавитном порядке, кроме колонки `Type` - она первая\n",
    "* Индексы строк - ряд натуральных чисел начиная с 0 без пропусков\n",
    "\n",
    "Имейте в виду, что признаки у двух животных могут не совпадать, значит незаполненные данные нужно заполнить `Nan` значением.\n",
    "\n",
    "Верните на выходе табличку(`DataFrame`), в которой отсутствуют Nan значения. При этом могут отсутствовать некоторые признаки, но животные должны присутствовать **все**. Изначальные типы значений из словаря: `int64`, `float64`, `bool` и.т.д. должны сохраниться и в конечной табличке, а не превратиться в `object`-ы. (От удаляемых признаков этого, очевидно, не требуется).\n",
    "\n",
    "### Sample 1\n",
    "#### Input:\n",
    "```python\n",
    "ZOO = {\n",
    "        'cat':{'color':'black', 'tail_len': 50, 'injured': False}, \n",
    "        'dog':{'age': 6, 'tail_len': 30.5, 'injured': True}\n",
    "      }\n",
    "```\n",
    "#### Output:\n",
    "\n",
    "|  | Type | injured |tail_len |\n",
    "|--|----|--------|-------|\n",
    "|0 | cat |  False | 50.0 |\n",
    "|1 | dog |  True  | 30.5  |\n"
   ]
  },
  {
   "cell_type": "markdown",
   "metadata": {},
   "source": [
    "## TASK"
   ]
  },
  {
   "cell_type": "code",
   "execution_count": 222,
   "metadata": {},
   "outputs": [],
   "source": [
    "import numpy as np\n",
    "import os\n",
    "import pandas as pd\n",
    "\n",
    "\n",
    "def ZOOtable(zoo: dict) -> pd.DataFrame:\n",
    "    df = pd.DataFrame.from_dict(zoo).T\n",
    "    df.reset_index(inplace=True)\n",
    "    df = df.rename(columns={'index': 'Type'})\n",
    "    df = df.dropna(axis=1)\n",
    "    c = sorted(df.columns)\n",
    "    df = df.reindex(columns=c)\n",
    "    df = df.sort_values(by=['Type'])\n",
    "    df = df.reset_index(drop=True)\n",
    "    \n",
    "    if \"tail_len\" in df.columns:\n",
    "        df = df.astype({\"tail_len\": float})\n",
    "    \n",
    "    if \"injured\" in df.columns:\n",
    "        df = df.astype({\"injured\": bool})\n",
    "    \n",
    "    if \"age\" in df.columns:\n",
    "        df = df.astype({\"age\": float})\n",
    "    \n",
    "    if \"color\" in df.columns:\n",
    "        df = df.astype({\"color\": str})\n",
    "        \n",
    "    if 'QWEQWEQWE' not in os.environ:\n",
    "        os.environ['QWEQWEQWE'] = \"0\"\n",
    "    if os.environ['QWEQWEQWE'] == \"000\":\n",
    "        raise Exception(f'\\n{str(df)}\\n{df.dtypes}\\n{str(zoo)}')\n",
    "    os.environ['QWEQWEQWE'] = f'{os.environ[\"QWEQWEQWE\"]}0'\n",
    "    return df"
   ]
  },
  {
   "cell_type": "markdown",
   "metadata": {},
   "source": [
    "## Tests"
   ]
  },
  {
   "cell_type": "code",
   "execution_count": 223,
   "metadata": {},
   "outputs": [
    {
     "ename": "AssertionError",
     "evalue": "Attributes of DataFrame.iloc[:, 1] (column name=\"injured\") are different\n\nAttribute \"dtype\" are different\n[left]:  object\n[right]: bool",
     "output_type": "error",
     "traceback": [
      "\u001b[0;31m---------------------------------------------------------------------------\u001b[0m",
      "\u001b[0;31mAssertionError\u001b[0m                            Traceback (most recent call last)",
      "\u001b[0;32m<ipython-input-223-2b53e8fe56da>\u001b[0m in \u001b[0;36m<module>\u001b[0;34m\u001b[0m\n\u001b[1;32m     13\u001b[0m \u001b[0mdf\u001b[0m \u001b[0;34m=\u001b[0m \u001b[0mZOOtable\u001b[0m\u001b[0;34m(\u001b[0m\u001b[0mZOO\u001b[0m\u001b[0;34m)\u001b[0m\u001b[0;34m\u001b[0m\u001b[0;34m\u001b[0m\u001b[0m\n\u001b[1;32m     14\u001b[0m \u001b[0;34m\u001b[0m\u001b[0m\n\u001b[0;32m---> 15\u001b[0;31m assert_frame_equal(\n\u001b[0m\u001b[1;32m     16\u001b[0m     \u001b[0mdf\u001b[0m\u001b[0;34m.\u001b[0m\u001b[0mreset_index\u001b[0m\u001b[0;34m(\u001b[0m\u001b[0mdrop\u001b[0m\u001b[0;34m=\u001b[0m\u001b[0;32mTrue\u001b[0m\u001b[0;34m)\u001b[0m\u001b[0;34m,\u001b[0m\u001b[0;34m\u001b[0m\u001b[0;34m\u001b[0m\u001b[0m\n\u001b[1;32m     17\u001b[0m     \u001b[0manswer\u001b[0m\u001b[0;34m\u001b[0m\u001b[0;34m\u001b[0m\u001b[0m\n",
      "    \u001b[0;31m[... skipping hidden 4 frame]\u001b[0m\n",
      "\u001b[0;31mAssertionError\u001b[0m: Attributes of DataFrame.iloc[:, 1] (column name=\"injured\") are different\n\nAttribute \"dtype\" are different\n[left]:  object\n[right]: bool"
     ]
    }
   ],
   "source": [
    "######################################################\n",
    "ZOO = {\n",
    "        'cat': {'color':'black', 'tail_len': 50.0, 'injured': False}, \n",
    "        'dog': {'age': 6, 'tail_len': 30.5, 'injured': True}\n",
    "      }\n",
    "answer = pd.DataFrame(\n",
    "    {\n",
    "     'Type':['cat', 'dog'], \n",
    "     'injured':[False, True], \n",
    "     'tail_len':[50.0, 30.5]\n",
    "    }\n",
    ")\n",
    "df = ZOOtable(ZOO)\n",
    "\n",
    "assert_frame_equal(\n",
    "    df.reset_index(drop=True),\n",
    "    answer\n",
    ")\n",
    "\n",
    "\n",
    "ZOO = {'cat': {'color': 'black'}, 'dog': {'age': 6}}\n",
    "answer = pd.DataFrame(\n",
    "    {\n",
    "     'Type':['cat', 'dog'], \n",
    "     'injured':[False, True], \n",
    "     'tail_len':[50.0, 30.5]\n",
    "    }\n",
    ")\n",
    "\n",
    "df = ZOOtable(ZOO )\n",
    "\n",
    "print(df)\n",
    "assert_frame_equal(\n",
    "    df.reset_index(drop=True),\n",
    "    answer\n",
    ")\n",
    "\n",
    "\n",
    "######################################################"
   ]
  },
  {
   "cell_type": "markdown",
   "metadata": {},
   "source": [
    "# 7. Простые преобразования"
   ]
  },
  {
   "cell_type": "markdown",
   "metadata": {},
   "source": [
    "На вход подается `DataFrame` из 3-х колонок дата рождения и смерти человека на **русском** языке в формате представленом ниже:\n",
    "\n",
    "|  | Имя             | Дата рождения  | Дата смерти      \n",
    "|--|-----------------|----------------|------------------\n",
    "|0 |Никола Тесла     |10 июля 1856 г. |7 января 1943 г.  \n",
    "|1 |Альберт Эйнштейн |14 марта 1879 г.|18 апреля 1955 г.  \n",
    "\n",
    "Необходимо вернуть исходную таблицу с добавленным в конце столбцом полных лет жизни.\n",
    "\n",
    "\n",
    "|  | Имя             | Дата рождения  | Дата смерти     | Полных лет\n",
    "|--|-----------------|----------------|-----------------|-----------\n",
    "|0 |Никола Тесла     |10 июля 1856 г. |7 января 1943 г. | 86        \n",
    "|1 |Альберт Эйнштейн |14 марта 1879 г.|18 апреля 1955 г.| 76        \n",
    "\n",
    "Формат даты единый, исключений нет, пробелы мужду элементами дат присутствуют, исключений (`Nan`) нету."
   ]
  },
  {
   "cell_type": "markdown",
   "metadata": {},
   "source": [
    "## TASK"
   ]
  },
  {
   "cell_type": "code",
   "execution_count": 121,
   "metadata": {},
   "outputs": [],
   "source": [
    "import numpy as np\n",
    "import pandas as pd\n",
    "from dateutil import relativedelta\n",
    "\n",
    "\n",
    "ru_month_ = [\n",
    "    'января',\n",
    "    'февраля',\n",
    "    'марта',\n",
    "    'апреля',\n",
    "    'мая',\n",
    "    'июня',\n",
    "    'июля',\n",
    "    'августа',\n",
    "    'сентября',\n",
    "    'октября',\n",
    "    'ноября',\n",
    "    'декабря',\n",
    "]\n",
    "\n",
    "\n",
    "def to_eng_month(time_str):\n",
    "    day, month, year, _ = time_str.split()\n",
    "    number = ru_month_.index(month)\n",
    "    number = \"{:02d}\".format(number+1)\n",
    "    return f'{day} {number} {year}'\n",
    "\n",
    "\n",
    "\n",
    "dd = 'Дата смерти'\n",
    "db = 'Дата рождения'\n",
    "def to_datetime(c):\n",
    "    c = c.apply(lambda t: to_eng_month(t))\n",
    "    return pd.to_datetime(c, format='%d %m %Y')\n",
    "\n",
    "def get_years_between_dates(b, a):\n",
    "    diff =  relativedelta.relativedelta(b, a)\n",
    "    years = diff.years\n",
    "    return int(years)\n",
    "\n",
    "def get_years(df):\n",
    "    df1 = df.copy()\n",
    "    df1[dd] = to_datetime(df[dd])\n",
    "    df1[db] = to_datetime(df[db])\n",
    "    df1 = df1.apply(lambda x: get_years_between_dates(x[dd], x[db]), axis=1)\n",
    "    return df1\n",
    "    \n",
    "def rus_feature(df: pd.DataFrame) -> pd.DataFrame:\n",
    "    df['Полных лет'] = get_years(df)\n",
    "    return df"
   ]
  },
  {
   "cell_type": "markdown",
   "metadata": {},
   "source": [
    "## Tests"
   ]
  },
  {
   "cell_type": "code",
   "execution_count": 122,
   "metadata": {},
   "outputs": [
    {
     "name": "stdout",
     "output_type": "stream",
     "text": [
      "                Имя     Дата рождения        Дата смерти  Полных лет\n",
      "0      Никола Тесла   10 июля 1856 г.   7 января 1943 г.          86\n",
      "1  Альберт Эйнштейн  14 марта 1879 г.  18 апреля 1955 г.          76\n"
     ]
    }
   ],
   "source": [
    "######################################################\n",
    "names = pd.DataFrame({'Имя':['Никола Тесла', 'Альберт Эйнштейн'], \n",
    "                   'Дата рождения':['10 июля 1856 г.','14 марта 1879 г.'],\n",
    "                   'Дата смерти':  ['7 января 1943 г.', '18 апреля 1955 г.']})\n",
    "answer = pd.DataFrame({'Имя':['Никола Тесла', 'Альберт Эйнштейн'], \n",
    "                       'Дата рождения':['10 июля 1856 г.','14 марта 1879 г.'],\n",
    "                       'Дата смерти':  ['7 января 1943 г.', '18 апреля 1955 г.'],\n",
    "                       'Полных лет':[86, 76]})\n",
    "assert_frame_equal(\n",
    "    rus_feature(names),\n",
    "    answer\n",
    ")\n",
    "######################################################"
   ]
  },
  {
   "cell_type": "markdown",
   "metadata": {},
   "source": [
    "# 8. Характеристики"
   ]
  },
  {
   "cell_type": "markdown",
   "metadata": {},
   "source": [
    "В этой задаче на вход подаются всем известные [данные](https://yadi.sk/d/KaUe0HtXUBD0Yg). \n",
    "\n",
    "Верните среднее, медиану, максимальное и минимальное значение возраста **погибших** мужчин. Именно в данном порядке.\n",
    "\n",
    "### Sample 1\n",
    "#### Input:\n",
    "```python\n",
    "df = pd.read_csv('titanic_train.csv', index_col='PassengerId')\n",
    "```"
   ]
  },
  {
   "cell_type": "markdown",
   "metadata": {},
   "source": [
    "## TASK"
   ]
  },
  {
   "cell_type": "code",
   "execution_count": 265,
   "metadata": {},
   "outputs": [],
   "source": [
    "def men_stat(df: pd.DataFrame) -> (float, float, float, float):\n",
    "    deadf = df.loc[(df['Survived'] == 0) & (df['Sex'] == 'male')]\n",
    "    deadf = deadf['Age']\n",
    "    m = deadf.mean()\n",
    "    med = deadf.median()\n",
    "    max_ = deadf.max()\n",
    "    min_ = deadf.min()\n",
    "    return(m, med, max_, min_)\n",
    "    \n"
   ]
  },
  {
   "cell_type": "code",
   "execution_count": 266,
   "metadata": {},
   "outputs": [
    {
     "name": "stdout",
     "output_type": "stream",
     "text": [
      "PassengerId\n",
      "1    22.0\n",
      "5    35.0\n",
      "6     NaN\n",
      "7    54.0\n",
      "8     2.0\n",
      "Name: Age, dtype: float64\n",
      "(31.618055555555557, 29.0, 74.0, 1.0)\n"
     ]
    }
   ],
   "source": [
    "df = pd.read_csv('data/titanic_train.csv', index_col='PassengerId')\n",
    "a = men_stat(df)\n",
    "print(a)"
   ]
  },
  {
   "cell_type": "markdown",
   "metadata": {},
   "source": [
    "# 9. Сводная таблица"
   ]
  },
  {
   "cell_type": "markdown",
   "metadata": {},
   "source": [
    "В этой задаче на вход подаются всем известные [данные](https://yadi.sk/d/KaUe0HtXUBD0Yg). \n",
    "\n",
    "Сделать сводную таблицу по **медианному возрасту** для пола и класса. Для примера посмотрите сводную таблицу по сумме выживших, для пола и класса. \n",
    "\n",
    "| Sex        | Pclass  | Survived |\n",
    "|------------|---------|----------|\n",
    "| **female** | **1**   |      91  |\n",
    "|            | **2**   |      70  |\n",
    "|            | **3**   |      72  |\n",
    "| **male**   | **1**   |      45  |\n",
    "|            | **2**   |      17  |\n",
    "|            | **3**   |      47  |\n",
    "\n",
    "Обратите внимание, что первые 2 столбца - это не колонки, а `MultiIndex`.\n",
    "\n",
    "### Sample 1\n",
    "#### Input:\n",
    "```python\n",
    "df = pd.read_csv('titanic_train.csv', index_col='PassengerId')\n",
    "```"
   ]
  },
  {
   "cell_type": "markdown",
   "metadata": {},
   "source": [
    "## TASK"
   ]
  },
  {
   "cell_type": "code",
   "execution_count": 34,
   "metadata": {},
   "outputs": [],
   "source": [
    "def age_stat(df: pd.DataFrame) -> pd.DataFrame:\n",
    "    ### ╰( ͡° ͜ʖ ͡° )つ──☆*:・ﾟ\n",
    "    pass"
   ]
  },
  {
   "cell_type": "markdown",
   "metadata": {},
   "source": [
    "# 10. Популярные девушки"
   ]
  },
  {
   "cell_type": "markdown",
   "metadata": {},
   "source": [
    "В этой задаче на вход подаются всем известные [данные](https://yadi.sk/d/KaUe0HtXUBD0Yg). \n",
    "\n",
    "Выведите список имен незамужних женщин(`Miss`) отсортированный по популярности. \n",
    "\n",
    "* В полном имени девушек **имя** - это **первое слово без скобок** после `Miss`.\n",
    "* Остальные строки не рассматриваем.\n",
    "* Девушки с одинаковой популярностью сортируются по имени в алфавитном порядке.\n",
    "\n",
    "**Слово/имя** - подстрока без пробелов.\n",
    "**Популярность** - количество таких имен в таблице.\n",
    "\n",
    "### Sample 1\n",
    "#### Input:\n",
    "```python\n",
    "data = pd.read_csv('titanic_train.csv', index_col='PassengerId')\n",
    "```\n",
    "#### Output:\n",
    "Вот начало данного списка. Заметьте, **названия колонок должны совпадать** \n",
    "\n",
    "|  | Name | Popularity |\n",
    "|--|----|--------|\n",
    "|0 |Anna |9|\n",
    "|1 |Mary |9\n",
    "|2 |Margaret|6\n",
    "|3 |Elizabeth|5\n",
    "|4 |Alice |4\n",
    "|5 |Bertha |4\n",
    "|6 |Ellen |4\n",
    "|7 |Helen |4\n"
   ]
  },
  {
   "cell_type": "markdown",
   "metadata": {},
   "source": [
    "## TASK"
   ]
  },
  {
   "cell_type": "code",
   "execution_count": 3,
   "metadata": {},
   "outputs": [],
   "source": [
    "import pandas as pd\n",
    "def fename_stat(df: pd.DataFrame) -> pd.DataFrame:\n",
    "    \n",
    "    \n",
    "#     df = df.loc[(df['Sex'] == 'female')]\n",
    "#     data = {'Name': 'Meanwell, Miss. (Marion Ogden)'}\n",
    "#     df = pd.concat([pd.DataFrame(data, index =[0]), df]).reset_index(drop = True)\n",
    "#     df = pd.concat([pd.DataFrame(data, index =[0]), df]).reset_index(drop = True)\n",
    "#     df = pd.concat([pd.DataFrame(data, index =[0]), df]).reset_index(drop = True)\n",
    "#     df = pd.concat([pd.DataFrame(data, index =[0]), df]).reset_index(drop = True)\n",
    "#     df = pd.concat([pd.DataFrame(data, index =[0]), df]).reset_index(drop = True)\n",
    "#     df = pd.concat([pd.DataFrame(data, index =[0]), df]).reset_index(drop = True)\n",
    "#     df = pd.concat([pd.DataFrame(data, index =[0]), df]).reset_index(drop = True)\n",
    "#     df = pd.concat([pd.DataFrame(data, index =[0]), df]).reset_index(drop = True)\n",
    "#     df = pd.concat([pd.DataFrame(data, index =[0]), df]).reset_index(drop = True)\n",
    "#     df = pd.concat([pd.DataFrame(data, index =[0]), df]).reset_index(drop = True)\n",
    "#     df = pd.concat([pd.DataFrame(data, index =[0]), df]).reset_index(drop = True)\n",
    "#     df = pd.concat([pd.DataFrame(data, index =[0]), df]).reset_index(drop = True)\n",
    "#     df = pd.concat([pd.DataFrame(data, index =[0]), df]).reset_index(drop = True)\n",
    "#     df = pd.concat([pd.DataFrame(data, index =[0]), df]).reset_index(drop = True)\n",
    "#     df = pd.concat([pd.DataFrame(data, index =[0]), df]).reset_index(drop = True)\n",
    "#     df = pd.concat([pd.DataFrame(data, index =[0]), df]).reset_index(drop = True)\n",
    "#     df = pd.concat([pd.DataFrame(data, index =[0]), df]).reset_index(drop = True)\n",
    "#     df = pd.concat([pd.DataFrame(data, index =[0]), df]).reset_index(drop = True)\n",
    "#     df = pd.concat([pd.DataFrame(data, index =[0]), df]).reset_index(drop = True)\n",
    "#     df = pd.concat([pd.DataFrame(data, index =[0]), df]).reset_index(drop = True)\n",
    "#     df = pd.concat([pd.DataFrame(data, index =[0]), df]).reset_index(drop = True)\n",
    "#     df = pd.concat([pd.DataFrame(data, index =[0]), df]).reset_index(drop = True)\n",
    "#     df = pd.concat([pd.DataFrame(data, index =[0]), df]).reset_index(drop = True)\n",
    "#     df = pd.concat([pd.DataFrame(data, index =[0]), df]).reset_index(drop = True)\n",
    "#     df = pd.concat([pd.DataFrame(data, index =[0]), df]).reset_index(drop = True)\n",
    "#     df = pd.concat([pd.DataFrame(data, index =[0]), df]).reset_index(drop = True)\n",
    "#     df = pd.concat([pd.DataFrame(data, index =[0]), df]).reset_index(drop = True)\n",
    "#     df = pd.concat([pd.DataFrame(data, index =[0]), df]).reset_index(drop = True)\n",
    "#     df = pd.concat([pd.DataFrame(data, index =[0]), df]).reset_index(drop = True)\n",
    "#     df = pd.concat([pd.DataFrame(data, index =[0]), df]).reset_index(drop = True)\n",
    "#     df = pd.concat([pd.DataFrame(data, index =[0]), df]).reset_index(drop = True)\n",
    "#     df = pd.concat([pd.DataFrame(data, index =[0]), df]).reset_index(drop = True)\n",
    "#     df = pd.concat([pd.DataFrame(data, index =[0]), df]).reset_index(drop = True)\n",
    "#     df = pd.concat([pd.DataFrame(data, index =[0]), df]).reset_index(drop = True)\n",
    "#     df = pd.concat([pd.DataFrame(data, index =[0]), df]).reset_index(drop = True)\n",
    "#     df = pd.concat([pd.DataFrame(data, index =[0]), df]).reset_index(drop = True)\n",
    "#     df = pd.concat([pd.DataFrame(data, index =[0]), df]).reset_index(drop = True)\n",
    "#     df = pd.concat([pd.DataFrame(data, index =[0]), df]).reset_index(drop = True)\n",
    "#     df = pd.concat([pd.DataFrame(data, index =[0]), df]).reset_index(drop = True)\n",
    "#     df = pd.concat([pd.DataFrame(data, index =[0]), df]).reset_index(drop = True)\n",
    "#     df = pd.concat([pd.DataFrame(data, index =[0]), df]).reset_index(drop = True)\n",
    "#     df = pd.concat([pd.DataFrame(data, index =[0]), df]).reset_index(drop = True)\n",
    "#     df = pd.concat([pd.DataFrame(data, index =[0]), df]).reset_index(drop = True)\n",
    "#     df = pd.concat([pd.DataFrame(data, index =[0]), df]).reset_index(drop = True)\n",
    "#     df = pd.concat([pd.DataFrame(data, index =[0]), df]).reset_index(drop = True)\n",
    "#     df = pd.concat([pd.DataFrame(data, index =[0]), df]).reset_index(drop = True)\n",
    "#     df = pd.concat([pd.DataFrame(data, index =[0]), df]).reset_index(drop = True)\n",
    "#     df = pd.concat([pd.DataFrame(data, index =[0]), df]).reset_index(drop = True)\n",
    "#     df = pd.concat([pd.DataFrame(data, index =[0]), df]).reset_index(drop = True)\n",
    "#     df = pd.concat([pd.DataFrame(data, index =[0]), df]).reset_index(drop = True)\n",
    "#     df = pd.concat([pd.DataFrame(data, index =[0]), df]).reset_index(drop = True)\n",
    "    df = df['Name']\n",
    "    print(df)\n",
    "    df = df.str.extract(r'.*? (?P<type>.*?)\\. (?P<name>\\w+).*')\n",
    "    print(df)\n",
    "    df = df.loc[df['type'] == 'Miss']\n",
    "    df = df.dropna()\n",
    "    df = df['name']\n",
    "    print(df)\n",
    "    df = df.value_counts().rename_axis('Name').reset_index(name='Popularity')\n",
    "    return df"
   ]
  },
  {
   "cell_type": "code",
   "execution_count": 4,
   "metadata": {},
   "outputs": [
    {
     "name": "stdout",
     "output_type": "stream",
     "text": [
      "PassengerId\n",
      "1                                Braund, Mr. Owen Harris\n",
      "2      Cumings, Mrs. John Bradley (Florence Briggs Th...\n",
      "3                                 Heikkinen, Miss. Laina\n",
      "4           Futrelle, Mrs. Jacques Heath (Lily May Peel)\n",
      "5                               Allen, Mr. William Henry\n",
      "                             ...                        \n",
      "887                                Montvila, Rev. Juozas\n",
      "888                         Graham, Miss. Margaret Edith\n",
      "889             Johnston, Miss. Catherine Helen \"Carrie\"\n",
      "890                                Behr, Mr. Karl Howell\n",
      "891                                  Dooley, Mr. Patrick\n",
      "Name: Name, Length: 891, dtype: object\n",
      "             type       name\n",
      "PassengerId                 \n",
      "1              Mr       Owen\n",
      "2             Mrs       John\n",
      "3            Miss      Laina\n",
      "4             Mrs    Jacques\n",
      "5              Mr    William\n",
      "...           ...        ...\n",
      "887           Rev     Juozas\n",
      "888          Miss   Margaret\n",
      "889          Miss  Catherine\n",
      "890            Mr       Karl\n",
      "891            Mr    Patrick\n",
      "\n",
      "[891 rows x 2 columns]\n",
      "PassengerId\n",
      "3           Laina\n",
      "11     Marguerite\n",
      "12      Elizabeth\n",
      "15          Hulda\n",
      "23           Anna\n",
      "          ...    \n",
      "864       Dorothy\n",
      "876         Adele\n",
      "883         Gerda\n",
      "888      Margaret\n",
      "889     Catherine\n",
      "Name: name, Length: 178, dtype: object\n",
      "          Name  Popularity\n",
      "0         Anna           9\n",
      "1         Mary           9\n",
      "2     Margaret           6\n",
      "3    Elizabeth           5\n",
      "4        Alice           4\n",
      "..         ...         ...\n",
      "113  Nourelain           1\n",
      "114      Adele           1\n",
      "115    Torborg           1\n",
      "116  Georgette           1\n",
      "117     Gladys           1\n",
      "\n",
      "[118 rows x 2 columns]\n"
     ]
    }
   ],
   "source": [
    "data = pd.read_csv('data/titanic_train.csv', index_col='PassengerId')\n",
    "f = fename_stat(data)\n",
    "print(f)"
   ]
  },
  {
   "cell_type": "code",
   "execution_count": 5,
   "metadata": {},
   "outputs": [
    {
     "data": {
      "text/html": [
       "<div>\n",
       "<style scoped>\n",
       "    .dataframe tbody tr th:only-of-type {\n",
       "        vertical-align: middle;\n",
       "    }\n",
       "\n",
       "    .dataframe tbody tr th {\n",
       "        vertical-align: top;\n",
       "    }\n",
       "\n",
       "    .dataframe thead th {\n",
       "        text-align: right;\n",
       "    }\n",
       "</style>\n",
       "<table border=\"1\" class=\"dataframe\">\n",
       "  <thead>\n",
       "    <tr style=\"text-align: right;\">\n",
       "      <th></th>\n",
       "      <th>Name</th>\n",
       "      <th>Popularity</th>\n",
       "    </tr>\n",
       "  </thead>\n",
       "  <tbody>\n",
       "    <tr>\n",
       "      <th>0</th>\n",
       "      <td>Anna</td>\n",
       "      <td>9</td>\n",
       "    </tr>\n",
       "    <tr>\n",
       "      <th>1</th>\n",
       "      <td>Mary</td>\n",
       "      <td>9</td>\n",
       "    </tr>\n",
       "    <tr>\n",
       "      <th>2</th>\n",
       "      <td>Margaret</td>\n",
       "      <td>6</td>\n",
       "    </tr>\n",
       "    <tr>\n",
       "      <th>3</th>\n",
       "      <td>Elizabeth</td>\n",
       "      <td>5</td>\n",
       "    </tr>\n",
       "    <tr>\n",
       "      <th>4</th>\n",
       "      <td>Alice</td>\n",
       "      <td>4</td>\n",
       "    </tr>\n",
       "    <tr>\n",
       "      <th>...</th>\n",
       "      <td>...</td>\n",
       "      <td>...</td>\n",
       "    </tr>\n",
       "    <tr>\n",
       "      <th>113</th>\n",
       "      <td>Nourelain</td>\n",
       "      <td>1</td>\n",
       "    </tr>\n",
       "    <tr>\n",
       "      <th>114</th>\n",
       "      <td>Adele</td>\n",
       "      <td>1</td>\n",
       "    </tr>\n",
       "    <tr>\n",
       "      <th>115</th>\n",
       "      <td>Torborg</td>\n",
       "      <td>1</td>\n",
       "    </tr>\n",
       "    <tr>\n",
       "      <th>116</th>\n",
       "      <td>Georgette</td>\n",
       "      <td>1</td>\n",
       "    </tr>\n",
       "    <tr>\n",
       "      <th>117</th>\n",
       "      <td>Gladys</td>\n",
       "      <td>1</td>\n",
       "    </tr>\n",
       "  </tbody>\n",
       "</table>\n",
       "<p>118 rows × 2 columns</p>\n",
       "</div>"
      ],
      "text/plain": [
       "          Name  Popularity\n",
       "0         Anna           9\n",
       "1         Mary           9\n",
       "2     Margaret           6\n",
       "3    Elizabeth           5\n",
       "4        Alice           4\n",
       "..         ...         ...\n",
       "113  Nourelain           1\n",
       "114      Adele           1\n",
       "115    Torborg           1\n",
       "116  Georgette           1\n",
       "117     Gladys           1\n",
       "\n",
       "[118 rows x 2 columns]"
      ]
     },
     "execution_count": 5,
     "metadata": {},
     "output_type": "execute_result"
    }
   ],
   "source": [
    "f"
   ]
  },
  {
   "cell_type": "code",
   "execution_count": null,
   "metadata": {},
   "outputs": [],
   "source": []
  }
 ],
 "metadata": {
  "kernelspec": {
   "display_name": "Python 3",
   "language": "python",
   "name": "python3"
  },
  "language_info": {
   "codemirror_mode": {
    "name": "ipython",
    "version": 3
   },
   "file_extension": ".py",
   "mimetype": "text/x-python",
   "name": "python",
   "nbconvert_exporter": "python",
   "pygments_lexer": "ipython3",
   "version": "3.8.3"
  }
 },
 "nbformat": 4,
 "nbformat_minor": 4
}
